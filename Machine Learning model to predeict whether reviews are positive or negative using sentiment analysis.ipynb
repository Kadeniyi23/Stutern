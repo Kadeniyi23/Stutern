{
 "cells": [
  {
   "cell_type": "markdown",
   "id": "72c6bef3-1522-4315-86b3-60c02563b1bd",
   "metadata": {},
   "source": [
    "## Importing of Libraries\n",
    "Here We imported the libraries needed for training, testing and exploring our dataset such as pandas, numpy, matplotlib, etc"
   ]
  },
  {
   "cell_type": "code",
   "execution_count": 305,
   "id": "7f659c96-b085-483c-960c-16b53a0312e3",
   "metadata": {},
   "outputs": [],
   "source": [
    "# Built-in library\n",
    "import itertools\n",
    "import re\n",
    "from typing import Any, Optional, Sequence, Union\n",
    "\n",
    "# Standard imports\n",
    "import numpy as np\n",
    "import pandas as pd\n",
    "import matplotlib.pyplot as plt\n",
    "import seaborn as sns\n",
    "\n",
    "\n",
    "# pandas settings\n",
    "pd.options.display.max_rows = 1_000\n",
    "pd.options.display.max_columns = 1_000\n",
    "pd.options.display.max_colwidth = 1_000\n",
    "\n",
    "\n",
    "# Black code formatter (Optional)\n",
    "%reload_ext lab_black"
   ]
  },
  {
   "cell_type": "markdown",
   "id": "eafa6b18-5e2b-4fae-900a-cfe322fbae04",
   "metadata": {},
   "source": [
    "## Read the Data\n",
    "Creating a function to read the data and display a dataframe "
   ]
  },
  {
   "cell_type": "code",
   "execution_count": 306,
   "id": "ffed0267-e8b6-4bb2-ba37-34771056f387",
   "metadata": {},
   "outputs": [],
   "source": [
    "def load_data(*, filename: str, sep: str = \",\") -> pd.DataFrame:\n",
    "    \"\"\"This is used to load the data.\n",
    "\n",
    "    Params;\n",
    "        filename (str): The filepath.\n",
    "        sep (str, default=\",\"): The separator. e.g ',', '\\t', etc\n",
    "\n",
    "    Returns:\n",
    "        data (pd.DataFrame): The loaded dataframe.\n",
    "    \"\"\"\n",
    "    data = pd.read_csv(filename, sep=sep)\n",
    "    print(f\"Shape of data: {data.shape}\\n\")\n",
    "    return data"
   ]
  },
  {
   "cell_type": "code",
   "execution_count": null,
   "id": "10d6ec1e-c5a9-4fc3-b00e-aa9f3966e96f",
   "metadata": {},
   "outputs": [],
   "source": []
  },
  {
   "cell_type": "code",
   "execution_count": 307,
   "id": "a0038bcd-5c4a-44f9-abe7-e3887fec07aa",
   "metadata": {},
   "outputs": [
    {
     "name": "stdout",
     "output_type": "stream",
     "text": [
      "Shape of data: (4150, 10)\n",
      "\n"
     ]
    },
    {
     "data": {
      "text/html": [
       "<div>\n",
       "<style scoped>\n",
       "    .dataframe tbody tr th:only-of-type {\n",
       "        vertical-align: middle;\n",
       "    }\n",
       "\n",
       "    .dataframe tbody tr th {\n",
       "        vertical-align: top;\n",
       "    }\n",
       "\n",
       "    .dataframe thead th {\n",
       "        text-align: right;\n",
       "    }\n",
       "</style>\n",
       "<table border=\"1\" class=\"dataframe\">\n",
       "  <thead>\n",
       "    <tr style=\"text-align: right;\">\n",
       "      <th></th>\n",
       "      <th>Review_Title</th>\n",
       "      <th>Review_Text</th>\n",
       "      <th>Verified_Buyer</th>\n",
       "      <th>Review_Date</th>\n",
       "      <th>Review_Location</th>\n",
       "      <th>Review_Upvotes</th>\n",
       "      <th>Review_Downvotes</th>\n",
       "      <th>Product</th>\n",
       "      <th>Brand</th>\n",
       "      <th>Scrape_Date</th>\n",
       "    </tr>\n",
       "  </thead>\n",
       "  <tbody>\n",
       "    <tr>\n",
       "      <th>0</th>\n",
       "      <td>Perfect</td>\n",
       "      <td>Love using this on my face while in the shower. Heats up and gives a light scrub nicely</td>\n",
       "      <td>No</td>\n",
       "      <td>15 days ago</td>\n",
       "      <td>Undisclosed</td>\n",
       "      <td>0</td>\n",
       "      <td>0</td>\n",
       "      <td>Multi-Vitamin Thermafoliant</td>\n",
       "      <td>Dermalogica</td>\n",
       "      <td>3/27/23</td>\n",
       "    </tr>\n",
       "  </tbody>\n",
       "</table>\n",
       "</div>"
      ],
      "text/plain": [
       "  Review_Title  \\\n",
       "0      Perfect   \n",
       "\n",
       "                                                                               Review_Text  \\\n",
       "0  Love using this on my face while in the shower. Heats up and gives a light scrub nicely   \n",
       "\n",
       "  Verified_Buyer  Review_Date Review_Location  Review_Upvotes  \\\n",
       "0             No  15 days ago     Undisclosed               0   \n",
       "\n",
       "   Review_Downvotes                      Product        Brand Scrape_Date  \n",
       "0                 0  Multi-Vitamin Thermafoliant  Dermalogica     3/27/23  "
      ]
     },
     "execution_count": 307,
     "metadata": {},
     "output_type": "execute_result"
    }
   ],
   "source": [
    "Ulta_reviews = load_data(filename=\"Ulta Skincare Reviews.csv\")\n",
    "\n",
    "Ulta_reviews.head(1)"
   ]
  },
  {
   "cell_type": "markdown",
   "id": "172f8480-1c1d-46b3-a205-87f96b140b69",
   "metadata": {},
   "source": [
    "\n",
    "\n",
    "### Data Columns\n",
    "\n",
    "```\n",
    "- Review Title: The title of the review.\n",
    "- Review_Text: The full text of the review.\n",
    "- Verified_Buyer: Whether the reviewer is a verified buyer of the product.\n",
    "- Review_Date: The date the review was published relative to the review scrape date.\n",
    "- Review_Location: The location of the reviewer.\n",
    "- Review_Upvotes: How many times the review was upvoted by other reviewers.\n",
    "- Review_Downvotes: How many times the review was downvoted by other reviewers.\n",
    "- Product: The name of the product the review was issued for.\n",
    "- Brand: The brand of the product.\n",
    "- Scrape Date: The date the data was pulled from the web.\n",
    "```\n",
    "\n",
    "### Objectives\n",
    "\n",
    "```\n",
    "1. Exploratory Data Analysis.\n",
    "\n",
    "2. Research and experimentation.\n",
    "\n",
    "3. Sentiments Analysis.\n",
    "\n",
    "```\n",
    "\n",
    "\n",
    "\n",
    "<br><hr>"
   ]
  },
  {
   "cell_type": "markdown",
   "id": "54a5f36f-51b5-4e33-8a52-254b46bbc6da",
   "metadata": {},
   "source": [
    "# Exploratory Data Analyis\n",
    "For this data set, the following exploratory analysis will be performed\n",
    "- checking for null values\n",
    "- filling the missing values\n",
    "- checking the data type\n",
    "- splitting into numerical and categorical data\n",
    "- using a count plot to plot the categorical variables\n",
    "- using histograms to plot the numerical variables\n",
    "- plotting for products with corresponding number of good and bad reviews\n",
    "- plotting the number of customers with issues\n",
    "- plotting most common issues associated with customers\n"
   ]
  },
  {
   "cell_type": "markdown",
   "id": "5cc3a79b-d08b-4a9a-b584-5387b036c669",
   "metadata": {},
   "source": [
    "#### Checking for null values"
   ]
  },
  {
   "cell_type": "code",
   "execution_count": 308,
   "id": "f5089d9f-33e3-4e25-8aa0-068ad4a2d86c",
   "metadata": {},
   "outputs": [
    {
     "data": {
      "text/plain": [
       "Review_Title        0\n",
       "Review_Text         2\n",
       "Verified_Buyer      0\n",
       "Review_Date         0\n",
       "Review_Location     1\n",
       "Review_Upvotes      0\n",
       "Review_Downvotes    0\n",
       "Product             0\n",
       "Brand               0\n",
       "Scrape_Date         0\n",
       "dtype: int64"
      ]
     },
     "execution_count": 308,
     "metadata": {},
     "output_type": "execute_result"
    }
   ],
   "source": [
    "Ulta_reviews.isnull().sum()"
   ]
  },
  {
   "cell_type": "markdown",
   "id": "6a51c48e-9023-4e06-afbe-498e06bf8650",
   "metadata": {},
   "source": [
    "#### Filling null values with unknown"
   ]
  },
  {
   "cell_type": "code",
   "execution_count": 309,
   "id": "5c191764-ed3a-4ce6-a2a7-92ec70747307",
   "metadata": {},
   "outputs": [],
   "source": [
    "Ulta_reviews.fillna(\"Unknown\", inplace=True)"
   ]
  },
  {
   "cell_type": "code",
   "execution_count": 310,
   "id": "60801fac-b332-41b9-ae9f-02cf118f7154",
   "metadata": {},
   "outputs": [
    {
     "data": {
      "text/plain": [
       "Review_Title        0\n",
       "Review_Text         0\n",
       "Verified_Buyer      0\n",
       "Review_Date         0\n",
       "Review_Location     0\n",
       "Review_Upvotes      0\n",
       "Review_Downvotes    0\n",
       "Product             0\n",
       "Brand               0\n",
       "Scrape_Date         0\n",
       "dtype: int64"
      ]
     },
     "execution_count": 310,
     "metadata": {},
     "output_type": "execute_result"
    }
   ],
   "source": [
    "Ulta_reviews.isnull().sum()"
   ]
  },
  {
   "cell_type": "markdown",
   "id": "843e4788-e9b2-4909-af57-038cf2fc3611",
   "metadata": {},
   "source": [
    "#### Checking for datatype\n",
    "The following data contains both strings and integers"
   ]
  },
  {
   "cell_type": "code",
   "execution_count": 311,
   "id": "2e0d3a49-67a1-433d-a7f8-6ff80d5ef799",
   "metadata": {},
   "outputs": [
    {
     "name": "stdout",
     "output_type": "stream",
     "text": [
      "<class 'pandas.core.frame.DataFrame'>\n",
      "RangeIndex: 4150 entries, 0 to 4149\n",
      "Data columns (total 10 columns):\n",
      " #   Column            Non-Null Count  Dtype \n",
      "---  ------            --------------  ----- \n",
      " 0   Review_Title      4150 non-null   object\n",
      " 1   Review_Text       4150 non-null   object\n",
      " 2   Verified_Buyer    4150 non-null   object\n",
      " 3   Review_Date       4150 non-null   object\n",
      " 4   Review_Location   4150 non-null   object\n",
      " 5   Review_Upvotes    4150 non-null   int64 \n",
      " 6   Review_Downvotes  4150 non-null   int64 \n",
      " 7   Product           4150 non-null   object\n",
      " 8   Brand             4150 non-null   object\n",
      " 9   Scrape_Date       4150 non-null   object\n",
      "dtypes: int64(2), object(8)\n",
      "memory usage: 324.3+ KB\n"
     ]
    }
   ],
   "source": [
    "Ulta_reviews.info()"
   ]
  },
  {
   "cell_type": "code",
   "execution_count": 312,
   "id": "cc793005-a1c6-4aca-9046-b9b32d7df4ec",
   "metadata": {
    "scrolled": true,
    "tags": []
   },
   "outputs": [
    {
     "data": {
      "text/plain": [
       "['Brand',\n",
       " 'Product',\n",
       " 'Review_Date',\n",
       " 'Review_Downvotes',\n",
       " 'Review_Location',\n",
       " 'Review_Text',\n",
       " 'Review_Title',\n",
       " 'Review_Upvotes',\n",
       " 'Scrape_Date',\n",
       " 'T',\n",
       " 'Verified_Buyer',\n",
       " '_AXIS_LEN',\n",
       " '_AXIS_ORDERS',\n",
       " '_AXIS_TO_AXIS_NUMBER',\n",
       " '_HANDLED_TYPES',\n",
       " '__abs__',\n",
       " '__add__',\n",
       " '__and__',\n",
       " '__annotations__',\n",
       " '__array__',\n",
       " '__array_priority__',\n",
       " '__array_ufunc__',\n",
       " '__array_wrap__',\n",
       " '__bool__',\n",
       " '__class__',\n",
       " '__contains__',\n",
       " '__copy__',\n",
       " '__deepcopy__',\n",
       " '__delattr__',\n",
       " '__delitem__',\n",
       " '__dict__',\n",
       " '__dir__',\n",
       " '__divmod__',\n",
       " '__doc__',\n",
       " '__eq__',\n",
       " '__finalize__',\n",
       " '__floordiv__',\n",
       " '__format__',\n",
       " '__ge__',\n",
       " '__getattr__',\n",
       " '__getattribute__',\n",
       " '__getitem__',\n",
       " '__getstate__',\n",
       " '__gt__',\n",
       " '__hash__',\n",
       " '__iadd__',\n",
       " '__iand__',\n",
       " '__ifloordiv__',\n",
       " '__imod__',\n",
       " '__imul__',\n",
       " '__init__',\n",
       " '__init_subclass__',\n",
       " '__invert__',\n",
       " '__ior__',\n",
       " '__ipow__',\n",
       " '__isub__',\n",
       " '__iter__',\n",
       " '__itruediv__',\n",
       " '__ixor__',\n",
       " '__le__',\n",
       " '__len__',\n",
       " '__lt__',\n",
       " '__matmul__',\n",
       " '__mod__',\n",
       " '__module__',\n",
       " '__mul__',\n",
       " '__ne__',\n",
       " '__neg__',\n",
       " '__new__',\n",
       " '__nonzero__',\n",
       " '__or__',\n",
       " '__pos__',\n",
       " '__pow__',\n",
       " '__radd__',\n",
       " '__rand__',\n",
       " '__rdivmod__',\n",
       " '__reduce__',\n",
       " '__reduce_ex__',\n",
       " '__repr__',\n",
       " '__rfloordiv__',\n",
       " '__rmatmul__',\n",
       " '__rmod__',\n",
       " '__rmul__',\n",
       " '__ror__',\n",
       " '__round__',\n",
       " '__rpow__',\n",
       " '__rsub__',\n",
       " '__rtruediv__',\n",
       " '__rxor__',\n",
       " '__setattr__',\n",
       " '__setitem__',\n",
       " '__setstate__',\n",
       " '__sizeof__',\n",
       " '__str__',\n",
       " '__sub__',\n",
       " '__subclasshook__',\n",
       " '__truediv__',\n",
       " '__weakref__',\n",
       " '__xor__',\n",
       " '_accessors',\n",
       " '_accum_func',\n",
       " '_add_numeric_operations',\n",
       " '_agg_by_level',\n",
       " '_agg_examples_doc',\n",
       " '_agg_summary_and_see_also_doc',\n",
       " '_align_frame',\n",
       " '_align_series',\n",
       " '_append',\n",
       " '_arith_method',\n",
       " '_as_manager',\n",
       " '_attrs',\n",
       " '_box_col_values',\n",
       " '_can_fast_transpose',\n",
       " '_check_inplace_and_allows_duplicate_labels',\n",
       " '_check_inplace_setting',\n",
       " '_check_is_chained_assignment_possible',\n",
       " '_check_label_or_level_ambiguity',\n",
       " '_check_setitem_copy',\n",
       " '_clear_item_cache',\n",
       " '_clip_with_one_bound',\n",
       " '_clip_with_scalar',\n",
       " '_cmp_method',\n",
       " '_combine_frame',\n",
       " '_consolidate',\n",
       " '_consolidate_inplace',\n",
       " '_construct_axes_dict',\n",
       " '_construct_axes_from_arguments',\n",
       " '_construct_result',\n",
       " '_constructor',\n",
       " '_constructor_sliced',\n",
       " '_convert',\n",
       " '_count_level',\n",
       " '_data',\n",
       " '_dir_additions',\n",
       " '_dir_deletions',\n",
       " '_dispatch_frame_op',\n",
       " '_drop_axis',\n",
       " '_drop_labels_or_levels',\n",
       " '_ensure_valid_index',\n",
       " '_find_valid_index',\n",
       " '_flags',\n",
       " '_from_arrays',\n",
       " '_from_mgr',\n",
       " '_get_agg_axis',\n",
       " '_get_axis',\n",
       " '_get_axis_name',\n",
       " '_get_axis_number',\n",
       " '_get_axis_resolvers',\n",
       " '_get_block_manager_axis',\n",
       " '_get_bool_data',\n",
       " '_get_cleaned_column_resolvers',\n",
       " '_get_column_array',\n",
       " '_get_index_resolvers',\n",
       " '_get_item_cache',\n",
       " '_get_label_or_level_values',\n",
       " '_get_numeric_data',\n",
       " '_get_value',\n",
       " '_getitem_bool_array',\n",
       " '_getitem_multilevel',\n",
       " '_gotitem',\n",
       " '_hidden_attrs',\n",
       " '_indexed_same',\n",
       " '_info_axis',\n",
       " '_info_axis_name',\n",
       " '_info_axis_number',\n",
       " '_info_repr',\n",
       " '_init_mgr',\n",
       " '_inplace_method',\n",
       " '_internal_names',\n",
       " '_internal_names_set',\n",
       " '_is_copy',\n",
       " '_is_homogeneous_type',\n",
       " '_is_label_or_level_reference',\n",
       " '_is_label_reference',\n",
       " '_is_level_reference',\n",
       " '_is_mixed_type',\n",
       " '_is_view',\n",
       " '_iset_item',\n",
       " '_iset_item_mgr',\n",
       " '_iset_not_inplace',\n",
       " '_item_cache',\n",
       " '_iter_column_arrays',\n",
       " '_ixs',\n",
       " '_join_compat',\n",
       " '_logical_func',\n",
       " '_logical_method',\n",
       " '_maybe_cache_changed',\n",
       " '_maybe_update_cacher',\n",
       " '_metadata',\n",
       " '_mgr',\n",
       " '_min_count_stat_function',\n",
       " '_needs_reindex_multi',\n",
       " '_protect_consolidate',\n",
       " '_reduce',\n",
       " '_reduce_axis1',\n",
       " '_reindex_axes',\n",
       " '_reindex_columns',\n",
       " '_reindex_index',\n",
       " '_reindex_multi',\n",
       " '_reindex_with_indexers',\n",
       " '_rename',\n",
       " '_replace_columnwise',\n",
       " '_repr_data_resource_',\n",
       " '_repr_fits_horizontal_',\n",
       " '_repr_fits_vertical_',\n",
       " '_repr_html_',\n",
       " '_repr_latex_',\n",
       " '_reset_cache',\n",
       " '_reset_cacher',\n",
       " '_sanitize_column',\n",
       " '_series',\n",
       " '_set_axis',\n",
       " '_set_axis_name',\n",
       " '_set_axis_nocheck',\n",
       " '_set_is_copy',\n",
       " '_set_item',\n",
       " '_set_item_frame_value',\n",
       " '_set_item_mgr',\n",
       " '_set_value',\n",
       " '_setitem_array',\n",
       " '_setitem_frame',\n",
       " '_setitem_slice',\n",
       " '_slice',\n",
       " '_stat_axis',\n",
       " '_stat_axis_name',\n",
       " '_stat_axis_number',\n",
       " '_stat_function',\n",
       " '_stat_function_ddof',\n",
       " '_take_with_is_copy',\n",
       " '_to_dict_of_blocks',\n",
       " '_typ',\n",
       " '_update_inplace',\n",
       " '_validate_dtype',\n",
       " '_values',\n",
       " '_where',\n",
       " 'abs',\n",
       " 'add',\n",
       " 'add_prefix',\n",
       " 'add_suffix',\n",
       " 'agg',\n",
       " 'aggregate',\n",
       " 'align',\n",
       " 'all',\n",
       " 'any',\n",
       " 'append',\n",
       " 'apply',\n",
       " 'applymap',\n",
       " 'asfreq',\n",
       " 'asof',\n",
       " 'assign',\n",
       " 'astype',\n",
       " 'at',\n",
       " 'at_time',\n",
       " 'attrs',\n",
       " 'axes',\n",
       " 'backfill',\n",
       " 'between_time',\n",
       " 'bfill',\n",
       " 'bool',\n",
       " 'boxplot',\n",
       " 'clip',\n",
       " 'columns',\n",
       " 'combine',\n",
       " 'combine_first',\n",
       " 'compare',\n",
       " 'convert_dtypes',\n",
       " 'copy',\n",
       " 'corr',\n",
       " 'corrwith',\n",
       " 'count',\n",
       " 'cov',\n",
       " 'cummax',\n",
       " 'cummin',\n",
       " 'cumprod',\n",
       " 'cumsum',\n",
       " 'describe',\n",
       " 'diff',\n",
       " 'div',\n",
       " 'divide',\n",
       " 'dot',\n",
       " 'drop',\n",
       " 'drop_duplicates',\n",
       " 'droplevel',\n",
       " 'dropna',\n",
       " 'dtypes',\n",
       " 'duplicated',\n",
       " 'empty',\n",
       " 'eq',\n",
       " 'equals',\n",
       " 'eval',\n",
       " 'ewm',\n",
       " 'expanding',\n",
       " 'explode',\n",
       " 'ffill',\n",
       " 'fillna',\n",
       " 'filter',\n",
       " 'first',\n",
       " 'first_valid_index',\n",
       " 'flags',\n",
       " 'floordiv',\n",
       " 'from_dict',\n",
       " 'from_records',\n",
       " 'ge',\n",
       " 'get',\n",
       " 'groupby',\n",
       " 'gt',\n",
       " 'head',\n",
       " 'hist',\n",
       " 'iat',\n",
       " 'idxmax',\n",
       " 'idxmin',\n",
       " 'iloc',\n",
       " 'index',\n",
       " 'infer_objects',\n",
       " 'info',\n",
       " 'insert',\n",
       " 'interpolate',\n",
       " 'isin',\n",
       " 'isna',\n",
       " 'isnull',\n",
       " 'items',\n",
       " 'iteritems',\n",
       " 'iterrows',\n",
       " 'itertuples',\n",
       " 'join',\n",
       " 'keys',\n",
       " 'kurt',\n",
       " 'kurtosis',\n",
       " 'last',\n",
       " 'last_valid_index',\n",
       " 'le',\n",
       " 'loc',\n",
       " 'lookup',\n",
       " 'lt',\n",
       " 'mad',\n",
       " 'mask',\n",
       " 'max',\n",
       " 'mean',\n",
       " 'median',\n",
       " 'melt',\n",
       " 'memory_usage',\n",
       " 'merge',\n",
       " 'min',\n",
       " 'mod',\n",
       " 'mode',\n",
       " 'mul',\n",
       " 'multiply',\n",
       " 'ndim',\n",
       " 'ne',\n",
       " 'nlargest',\n",
       " 'notna',\n",
       " 'notnull',\n",
       " 'nsmallest',\n",
       " 'nunique',\n",
       " 'pad',\n",
       " 'pct_change',\n",
       " 'pipe',\n",
       " 'pivot',\n",
       " 'pivot_table',\n",
       " 'plot',\n",
       " 'pop',\n",
       " 'pow',\n",
       " 'prod',\n",
       " 'product',\n",
       " 'quantile',\n",
       " 'query',\n",
       " 'radd',\n",
       " 'rank',\n",
       " 'rdiv',\n",
       " 'reindex',\n",
       " 'reindex_like',\n",
       " 'rename',\n",
       " 'rename_axis',\n",
       " 'reorder_levels',\n",
       " 'replace',\n",
       " 'resample',\n",
       " 'reset_index',\n",
       " 'rfloordiv',\n",
       " 'rmod',\n",
       " 'rmul',\n",
       " 'rolling',\n",
       " 'round',\n",
       " 'rpow',\n",
       " 'rsub',\n",
       " 'rtruediv',\n",
       " 'sample',\n",
       " 'select_dtypes',\n",
       " 'sem',\n",
       " 'set_axis',\n",
       " 'set_flags',\n",
       " 'set_index',\n",
       " 'shape',\n",
       " 'shift',\n",
       " 'size',\n",
       " 'skew',\n",
       " 'slice_shift',\n",
       " 'sort_index',\n",
       " 'sort_values',\n",
       " 'squeeze',\n",
       " 'stack',\n",
       " 'std',\n",
       " 'style',\n",
       " 'sub',\n",
       " 'subtract',\n",
       " 'sum',\n",
       " 'swapaxes',\n",
       " 'swaplevel',\n",
       " 'tail',\n",
       " 'take',\n",
       " 'to_clipboard',\n",
       " 'to_csv',\n",
       " 'to_dict',\n",
       " 'to_excel',\n",
       " 'to_feather',\n",
       " 'to_gbq',\n",
       " 'to_hdf',\n",
       " 'to_html',\n",
       " 'to_json',\n",
       " 'to_latex',\n",
       " 'to_markdown',\n",
       " 'to_numpy',\n",
       " 'to_parquet',\n",
       " 'to_period',\n",
       " 'to_pickle',\n",
       " 'to_records',\n",
       " 'to_sql',\n",
       " 'to_stata',\n",
       " 'to_string',\n",
       " 'to_timestamp',\n",
       " 'to_xarray',\n",
       " 'to_xml',\n",
       " 'transform',\n",
       " 'transpose',\n",
       " 'truediv',\n",
       " 'truncate',\n",
       " 'tz_convert',\n",
       " 'tz_localize',\n",
       " 'unstack',\n",
       " 'update',\n",
       " 'value_counts',\n",
       " 'values',\n",
       " 'var',\n",
       " 'where',\n",
       " 'xs']"
      ]
     },
     "execution_count": 312,
     "metadata": {},
     "output_type": "execute_result"
    }
   ],
   "source": [
    "dir(Ulta_reviews)"
   ]
  },
  {
   "cell_type": "markdown",
   "id": "c959b400-c568-43a2-a4a2-59bf320c5de2",
   "metadata": {},
   "source": [
    "#### Splitting the data into numerical and categorical data"
   ]
  },
  {
   "cell_type": "code",
   "execution_count": 313,
   "id": "6185ac4b-5c55-48f5-a1e8-17c19f1a924f",
   "metadata": {},
   "outputs": [
    {
     "data": {
      "text/html": [
       "<div>\n",
       "<style scoped>\n",
       "    .dataframe tbody tr th:only-of-type {\n",
       "        vertical-align: middle;\n",
       "    }\n",
       "\n",
       "    .dataframe tbody tr th {\n",
       "        vertical-align: top;\n",
       "    }\n",
       "\n",
       "    .dataframe thead th {\n",
       "        text-align: right;\n",
       "    }\n",
       "</style>\n",
       "<table border=\"1\" class=\"dataframe\">\n",
       "  <thead>\n",
       "    <tr style=\"text-align: right;\">\n",
       "      <th></th>\n",
       "      <th>Review_Title</th>\n",
       "      <th>Review_Text</th>\n",
       "      <th>Verified_Buyer</th>\n",
       "      <th>Review_Date</th>\n",
       "      <th>Review_Location</th>\n",
       "      <th>Product</th>\n",
       "      <th>Brand</th>\n",
       "      <th>Scrape_Date</th>\n",
       "    </tr>\n",
       "  </thead>\n",
       "  <tbody>\n",
       "    <tr>\n",
       "      <th>0</th>\n",
       "      <td>Perfect</td>\n",
       "      <td>Love using this on my face while in the shower. Heats up and gives a light scrub nicely</td>\n",
       "      <td>No</td>\n",
       "      <td>15 days ago</td>\n",
       "      <td>Undisclosed</td>\n",
       "      <td>Multi-Vitamin Thermafoliant</td>\n",
       "      <td>Dermalogica</td>\n",
       "      <td>3/27/23</td>\n",
       "    </tr>\n",
       "  </tbody>\n",
       "</table>\n",
       "</div>"
      ],
      "text/plain": [
       "  Review_Title  \\\n",
       "0      Perfect   \n",
       "\n",
       "                                                                               Review_Text  \\\n",
       "0  Love using this on my face while in the shower. Heats up and gives a light scrub nicely   \n",
       "\n",
       "  Verified_Buyer  Review_Date Review_Location                      Product  \\\n",
       "0             No  15 days ago     Undisclosed  Multi-Vitamin Thermafoliant   \n",
       "\n",
       "         Brand Scrape_Date  \n",
       "0  Dermalogica     3/27/23  "
      ]
     },
     "execution_count": 313,
     "metadata": {},
     "output_type": "execute_result"
    }
   ],
   "source": [
    "numerical_data = Ulta_reviews.select_dtypes(include=\"number\")\n",
    "categorical_data = Ulta_reviews.select_dtypes(exclude=\"number\")\n",
    "\n",
    "categorical_data.head(1)"
   ]
  },
  {
   "cell_type": "markdown",
   "id": "d2be47a0-751f-40b8-ad9b-ed59365902ab",
   "metadata": {},
   "source": [
    "#### Checking for number of unique values\n",
    "This was done to know the number of unique values  for each column and which columns can be plotted"
   ]
  },
  {
   "cell_type": "code",
   "execution_count": 314,
   "id": "e101e322-8b26-4d4d-a873-0fce906825fb",
   "metadata": {},
   "outputs": [
    {
     "data": {
      "text/plain": [
       "Review_Title       2828\n",
       "Review_Text        3662\n",
       "Verified_Buyer        2\n",
       "Review_Date          41\n",
       "Review_Location    1424\n",
       "Product               4\n",
       "Brand                 1\n",
       "Scrape_Date           1\n",
       "dtype: int64"
      ]
     },
     "execution_count": 314,
     "metadata": {},
     "output_type": "execute_result"
    }
   ],
   "source": [
    "categorical_data.nunique()"
   ]
  },
  {
   "cell_type": "markdown",
   "id": "fcd9af14-87e0-4acb-b3bc-30016b1ea079",
   "metadata": {},
   "source": [
    "#### Creating a function that plots the categorical variables\n"
   ]
  },
  {
   "cell_type": "code",
   "execution_count": 315,
   "id": "86cbadd9-529b-4604-b14d-3e50b2d3fda3",
   "metadata": {},
   "outputs": [],
   "source": [
    "def plot_counts(\n",
    "    *,\n",
    "    data: pd.DataFrame,\n",
    "    features: list[str],\n",
    "    n_rows: int,\n",
    "    n_cols: int,\n",
    "    figsize: tuple = (15, 8),\n",
    ") -> \"Plot\":\n",
    "    \"\"\"This returns a count plot of all the specified features.\"\"\"\n",
    "    fig, axs = plt.subplots(n_rows, n_cols, figsize=figsize)\n",
    "\n",
    "    for idx, feat in enumerate(features):\n",
    "        if n_rows > 1:\n",
    "            ax = axs[(idx // n_cols), (idx % n_cols)]\n",
    "        else:\n",
    "            ax = axs[idx]\n",
    "\n",
    "        sns.countplot(data=data, x=feat, ax=ax)\n",
    "        ax.set_title(f\"Count Plot of {feat!r}\")\n",
    "\n",
    "        labels = sorted(data[feat].value_counts().index)\n",
    "        ax.tick_params(axis=\"x\", rotation=80)\n",
    "    fig.tight_layout()\n",
    "    plt.show()"
   ]
  },
  {
   "cell_type": "markdown",
   "id": "f976aca7-7376-43f4-bd6a-5eeb5131f875",
   "metadata": {},
   "source": [
    "#### Plotting the categorical variables\n",
    "With the function plot counts, we answer the following questions \n",
    "- which of the buyers are verified or not?\n",
    "- Which product was used  more?"
   ]
  },
  {
   "cell_type": "code",
   "execution_count": 316,
   "id": "3cb5af17-4cf4-48d0-942a-4dba02ef9abe",
   "metadata": {},
   "outputs": [
    {
     "data": {
      "image/png": "[encoded data removed]",
      "text/plain": [
       "<Figure size 1500x800 with 2 Axes>"
      ]
     },
     "metadata": {},
     "output_type": "display_data"
    }
   ],
   "source": [
    "cat2 = [\"Verified_Buyer\", \"Product\"]\n",
    "\n",
    "plot_counts(data=categorical_data, features=cat2, n_rows=1, n_cols=2)"
   ]
  },
  {
   "cell_type": "markdown",
   "id": "8c1719e3-6e6b-4de1-955c-8b712a77b435",
   "metadata": {},
   "source": [
    "The above plot demonstrates the following:\n",
    "- Most of the buyers are not verified buyers\n",
    "- Daily Superfoliant and Daily Microfoliant are the most popular products"
   ]
  },
  {
   "cell_type": "markdown",
   "id": "c3908e94-4e12-4e4c-9371-b2fbc15c0765",
   "metadata": {},
   "source": [
    "#### Creating a function for the numerical variables"
   ]
  },
  {
   "cell_type": "code",
   "execution_count": 317,
   "id": "c4778117-74d2-40f1-b18f-57587ce657b6",
   "metadata": {},
   "outputs": [],
   "source": [
    "def histograms(\n",
    "    *,\n",
    "    data: pd.DataFrame,\n",
    "    features: list[str],\n",
    "    n_rows: int,\n",
    "    n_cols: int,\n",
    "    figsize: tuple = (15, 8),\n",
    ") -> \"Plot\":\n",
    "    \"\"\"This returns a histogram of all the specified features.\"\"\"\n",
    "    fig, axs = plt.subplots(n_rows, n_cols, figsize=figsize)\n",
    "\n",
    "    for idx, feat in enumerate(features):\n",
    "        if n_rows > 1:\n",
    "            ax = axs[(idx // n_cols), (idx % n_cols)]\n",
    "        else:\n",
    "            ax = axs[idx]\n",
    "\n",
    "        sns.histplot(data=data, x=feat, ax=ax)\n",
    "        ax.set_title(f\"Histogram of {feat!r}\")\n",
    "\n",
    "        labels = sorted(data[feat].value_counts().index)\n",
    "        ax.tick_params(axis=\"x\", rotation=80)\n",
    "    fig.tight_layout()\n",
    "    plt.show()"
   ]
  },
  {
   "cell_type": "markdown",
   "id": "1f3c6872-29f7-402b-bfa7-91ece181b5b6",
   "metadata": {},
   "source": [
    "#### Checking how many upvotes and downvotes per review"
   ]
  },
  {
   "cell_type": "code",
   "execution_count": 318,
   "id": "bde6e322-7fea-46d3-a48f-e0739651dd2e",
   "metadata": {
    "scrolled": true,
    "tags": []
   },
   "outputs": [
    {
     "data": {
      "text/plain": [
       "0     75.855422\n",
       "1     13.060241\n",
       "2      5.277108\n",
       "3      2.144578\n",
       "4      1.156627\n",
       "5      0.698795\n",
       "6      0.265060\n",
       "7      0.385542\n",
       "8      0.120482\n",
       "9      0.216867\n",
       "10     0.120482\n",
       "11     0.096386\n",
       "12     0.144578\n",
       "13     0.096386\n",
       "14     0.120482\n",
       "15     0.048193\n",
       "16     0.024096\n",
       "17     0.024096\n",
       "19     0.024096\n",
       "20     0.024096\n",
       "25     0.048193\n",
       "47     0.024096\n",
       "84     0.024096\n",
       "Name: Review_Upvotes, dtype: float64"
      ]
     },
     "execution_count": 318,
     "metadata": {},
     "output_type": "execute_result"
    }
   ],
   "source": [
    "numerical_data.Review_Upvotes.value_counts(normalize=True).mul(100).sort_index()"
   ]
  },
  {
   "cell_type": "code",
   "execution_count": 319,
   "id": "8a17a49d-1c99-4bb1-880f-127818a90e3a",
   "metadata": {
    "scrolled": true,
    "tags": []
   },
   "outputs": [
    {
     "data": {
      "text/plain": [
       "0     91.204819\n",
       "1      6.313253\n",
       "2      1.301205\n",
       "3      0.457831\n",
       "4      0.168675\n",
       "5      0.072289\n",
       "6      0.048193\n",
       "7      0.144578\n",
       "8      0.024096\n",
       "9      0.144578\n",
       "10     0.024096\n",
       "11     0.024096\n",
       "13     0.024096\n",
       "14     0.024096\n",
       "35     0.024096\n",
       "Name: Review_Downvotes, dtype: float64"
      ]
     },
     "execution_count": 319,
     "metadata": {},
     "output_type": "execute_result"
    }
   ],
   "source": [
    "numerical_data.Review_Downvotes.value_counts(normalize=True).mul(100).sort_index()"
   ]
  },
  {
   "cell_type": "markdown",
   "id": "ce0b2e27-0f5b-4ca5-90d0-07f5e7f00802",
   "metadata": {},
   "source": [
    "With the histograms function we plot the numerical variable "
   ]
  },
  {
   "cell_type": "code",
   "execution_count": 320,
   "id": "7f663100-7ca3-4808-b064-e67222a7d462",
   "metadata": {},
   "outputs": [
    {
     "data": {
      "image/png": "[encoded data removed]",
      "text/plain": [
       "<Figure size 1500x800 with 2 Axes>"
      ]
     },
     "metadata": {},
     "output_type": "display_data"
    }
   ],
   "source": [
    "# to plot the numerical variables\n",
    "numerical_data.nunique()\n",
    "\n",
    "histograms(\n",
    "    data=numerical_data, features=list(numerical_data.columns), n_rows=1, n_cols=2\n",
    ")"
   ]
  },
  {
   "cell_type": "markdown",
   "id": "2435dad9-f1c2-4a6e-9c55-e2a73b3e18a9",
   "metadata": {},
   "source": [
    " The plt demonstrates the folowing\n",
    "- 75% of reviews had 0 upvotes\n",
    "- Over 90% of reviews had 0 downvotes"
   ]
  },
  {
   "cell_type": "markdown",
   "id": "6cbf5de7-5099-435c-956a-8313a9623eda",
   "metadata": {},
   "source": [
    "### Which product had the most good and bad reviews?\n",
    "Using regex functions we find positive words among the data and create a dataframe with only good reviews.Using only a portion of good reviews , we can higlight which of the product had the most good reviews"
   ]
  },
  {
   "cell_type": "code",
   "execution_count": 321,
   "id": "b1817e6d-d021-4d60-bca3-2ce3b9920370",
   "metadata": {
    "scrolled": true,
    "tags": []
   },
   "outputs": [
    {
     "data": {
      "text/html": [
       "<div>\n",
       "<style scoped>\n",
       "    .dataframe tbody tr th:only-of-type {\n",
       "        vertical-align: middle;\n",
       "    }\n",
       "\n",
       "    .dataframe tbody tr th {\n",
       "        vertical-align: top;\n",
       "    }\n",
       "\n",
       "    .dataframe thead th {\n",
       "        text-align: right;\n",
       "    }\n",
       "</style>\n",
       "<table border=\"1\" class=\"dataframe\">\n",
       "  <thead>\n",
       "    <tr style=\"text-align: right;\">\n",
       "      <th></th>\n",
       "      <th>Review_Title</th>\n",
       "      <th>Review_Text</th>\n",
       "      <th>Verified_Buyer</th>\n",
       "      <th>Review_Date</th>\n",
       "      <th>Review_Location</th>\n",
       "      <th>Review_Upvotes</th>\n",
       "      <th>Review_Downvotes</th>\n",
       "      <th>Product</th>\n",
       "      <th>Brand</th>\n",
       "      <th>Scrape_Date</th>\n",
       "    </tr>\n",
       "  </thead>\n",
       "  <tbody>\n",
       "    <tr>\n",
       "      <th>1</th>\n",
       "      <td>You need this</td>\n",
       "      <td>Even better than the daily microfoliant. I'm obsessed. My skin is SO MUCH smoother</td>\n",
       "      <td>No</td>\n",
       "      <td>27 days ago</td>\n",
       "      <td>Undisclosed</td>\n",
       "      <td>0</td>\n",
       "      <td>0</td>\n",
       "      <td>Multi-Vitamin Thermafoliant</td>\n",
       "      <td>Dermalogica</td>\n",
       "      <td>3/27/23</td>\n",
       "    </tr>\n",
       "  </tbody>\n",
       "</table>\n",
       "</div>"
      ],
      "text/plain": [
       "    Review_Title  \\\n",
       "1  You need this   \n",
       "\n",
       "                                                                          Review_Text  \\\n",
       "1  Even better than the daily microfoliant. I'm obsessed. My skin is SO MUCH smoother   \n",
       "\n",
       "  Verified_Buyer  Review_Date Review_Location  Review_Upvotes  \\\n",
       "1             No  27 days ago     Undisclosed               0   \n",
       "\n",
       "   Review_Downvotes                      Product        Brand Scrape_Date  \n",
       "1                 0  Multi-Vitamin Thermafoliant  Dermalogica     3/27/23  "
      ]
     },
     "execution_count": 321,
     "metadata": {},
     "output_type": "execute_result"
    }
   ],
   "source": [
    "pattern = r\"love|obsessed|adore|pleased\"\n",
    "good_reviews = Ulta_reviews[Ulta_reviews[\"Review_Text\"].str.contains(pat=pattern)]\n",
    "\n",
    "good_reviews.head(1)"
   ]
  },
  {
   "cell_type": "code",
   "execution_count": 322,
   "id": "4b717df8-bc02-41fb-b292-a91f2aee2b06",
   "metadata": {},
   "outputs": [
    {
     "data": {
      "text/plain": [
       "(1046, 10)"
      ]
     },
     "execution_count": 322,
     "metadata": {},
     "output_type": "execute_result"
    }
   ],
   "source": [
    "good_reviews.shape"
   ]
  },
  {
   "cell_type": "markdown",
   "id": "ba493ad9-9ee9-4639-b4b5-3e57fdef0830",
   "metadata": {},
   "source": [
    "#### Creating a function for plotting a countplot"
   ]
  },
  {
   "cell_type": "code",
   "execution_count": 323,
   "id": "02e2777e-9b14-46a5-8a0b-00b92b7315ce",
   "metadata": {},
   "outputs": [],
   "source": [
    "# to create a countplot of features\n",
    "def count_plot(*, data: pd.DataFrame, feat: str) -> \"Plot\":\n",
    "    \"\"\"to create a count plot of features\"\"\"\n",
    "    sns.countplot(data=data, x=feat)\n",
    "    plt.tick_params(axis=\"x\", rotation=45)\n",
    "    plt.title(f\"Count plot of {feat!r}\")\n",
    "    plt.show"
   ]
  },
  {
   "cell_type": "markdown",
   "id": "8a90eb4c-708a-4301-8e13-81e7d96d1283",
   "metadata": {},
   "source": [
    " A count plot of the number of good reviews"
   ]
  },
  {
   "cell_type": "code",
   "execution_count": 324,
   "id": "9be534b8-9946-4aa7-892a-f9ea3b2dac10",
   "metadata": {},
   "outputs": [
    {
     "data": {
      "image/png": "[encoded data removed]",
      "text/plain": [
       "<Figure size 640x480 with 1 Axes>"
      ]
     },
     "metadata": {},
     "output_type": "display_data"
    }
   ],
   "source": [
    "count_plot(data=good_reviews, feat=\"Product\")"
   ]
  },
  {
   "cell_type": "markdown",
   "id": "8a6ae7f2-3e0d-4006-a90e-0ab674ad6b0b",
   "metadata": {},
   "source": [
    "It seems that the Daily Microfoliant has the highest number of good reviews and Mult-Vitamin Thermafoliant had the least. "
   ]
  },
  {
   "cell_type": "markdown",
   "id": "a1ffac22-038a-484e-a1f0-83b6085f93e2",
   "metadata": {},
   "source": [
    "##### For the bad reviews\n",
    "using a couple of commom, negative words, we generate a datframe containing a portion of bad reviews"
   ]
  },
  {
   "cell_type": "code",
   "execution_count": 325,
   "id": "0156b629-0918-4b62-812a-98961518713a",
   "metadata": {},
   "outputs": [
    {
     "data": {
      "text/plain": [
       "(43, 10)"
      ]
     },
     "execution_count": 325,
     "metadata": {},
     "output_type": "execute_result"
    }
   ],
   "source": [
    "pattern_bad = r\"heartbroken|unnoticeable|useless|\\bbs\\b|disliked|disappointed\"\n",
    "bad_reviews = Ulta_reviews[Ulta_reviews[\"Review_Text\"].str.contains(pat=pattern_bad)]\n",
    "\n",
    "bad_reviews.shape"
   ]
  },
  {
   "cell_type": "code",
   "execution_count": 326,
   "id": "cbf1bf62-b9a5-49c0-8bb2-8db7d1c07862",
   "metadata": {},
   "outputs": [
    {
     "data": {
      "image/png": "[encoded data removed]",
      "text/plain": [
       "<Figure size 640x480 with 1 Axes>"
      ]
     },
     "metadata": {},
     "output_type": "display_data"
    }
   ],
   "source": [
    "count_plot(data=bad_reviews, feat=\"Product\")"
   ]
  },
  {
   "cell_type": "markdown",
   "id": "5c365f7b-cfec-4e41-b3e2-6a96866b62f3",
   "metadata": {},
   "source": [
    "The Daily Superfoliant contains the highest number of bad reviews."
   ]
  },
  {
   "cell_type": "markdown",
   "id": "2e008537-247d-44ab-9fc2-eefb6486708f",
   "metadata": {},
   "source": [
    "#### Which issues are most common among the reviews\n",
    "We use regex function to search for common sklin isseus amoong the reviews. With that we we plot a bar chart containing the frequency of this issues to know which is more common"
   ]
  },
  {
   "cell_type": "code",
   "execution_count": 327,
   "id": "84d51233-80be-4a9f-873d-ae6faefef8b0",
   "metadata": {},
   "outputs": [
    {
     "data": {
      "image/png": "[encoded data removed]",
      "text/plain": [
       "<Figure size 1000x500 with 1 Axes>"
      ]
     },
     "metadata": {},
     "output_type": "display_data"
    }
   ],
   "source": [
    "pattern_issue = r\"eczema|pimple\\w+|acne|rashes|\\w+burn\"\n",
    "issues = Ulta_reviews[Ulta_reviews[\"Review_Text\"].str.contains(pat=pattern_issue)]\n",
    "\n",
    "pattern_issues = r\"(eczema|pimple\\w+|acne|rashes|\\w+burn)\"\n",
    "\n",
    "# count the frequency of each issue type\n",
    "issue_counts = issues[\"Review_Text\"].str.extractall(pattern_issues).value_counts()\n",
    "\n",
    "\n",
    "# plot the frequency of each issue type in a bar plot\n",
    "plt.figure(figsize=(10, 5))\n",
    "issue_counts.plot(kind=\"bar\")\n",
    "plt.title(\"Frequency of Common Issues\")\n",
    "plt.xlabel(\"Issue Type\")\n",
    "plt.ylabel(\"Frequency\")\n",
    "plt.show()"
   ]
  },
  {
   "cell_type": "markdown",
   "id": "c58b75d7-0a67-49a6-bc1f-3ae76358059b",
   "metadata": {},
   "source": [
    "The plot demonstrates that the most common issues requiring the use of products is acne followed by pimples"
   ]
  },
  {
   "cell_type": "markdown",
   "id": "555456c8-5c7f-46a7-8d56-446f52247cb4",
   "metadata": {},
   "source": [
    "#### Do most buyers have common skincare issues?\n",
    "Uisng regex functions and piecharts we higlight the percentage of customers who stated their issues as compared to those who didint"
   ]
  },
  {
   "cell_type": "code",
   "execution_count": 328,
   "id": "f71c1a38-7661-4609-9296-8cbc2bf84b00",
   "metadata": {},
   "outputs": [
    {
     "data": {
      "image/png": "[encoded data removed]",
      "text/plain": [
       "<Figure size 640x480 with 1 Axes>"
      ]
     },
     "metadata": {},
     "output_type": "display_data"
    }
   ],
   "source": [
    "Ulta_reviews[\"has_issue\"] = Ulta_reviews[\"Review_Text\"].str.contains(pat=pattern_issue)\n",
    "issue_counts = Ulta_reviews.groupby(\"has_issue\").size()\n",
    "labels = [\"No Issue\", \"Has Issue\"]\n",
    "plt.pie(issue_counts, labels=labels, autopct=\"%1.1f%%\")\n",
    "plt.title(\"Customers with and without common skincare issues\")\n",
    "plt.show()"
   ]
  },
  {
   "cell_type": "markdown",
   "id": "6d81d216-6b04-4958-a5fa-aba7e40fed68",
   "metadata": {},
   "source": [
    "Only 6.4% of reviwers had common issues like acne, pimples etc"
   ]
  },
  {
   "cell_type": "code",
   "execution_count": null,
   "id": "059a6f8c-3d4b-4169-9439-01cefa907943",
   "metadata": {},
   "outputs": [],
   "source": []
  },
  {
   "cell_type": "markdown",
   "id": "98668910-b1f7-4932-9586-716f2d6139ad",
   "metadata": {},
   "source": [
    "### Creating a wordcloud showing the words/phrases commonly associated with each product."
   ]
  },
  {
   "cell_type": "markdown",
   "id": "c63133c8-d9d8-499c-bb8b-95375306bad8",
   "metadata": {},
   "source": [
    "Importing the appropriate library:wordcloud"
   ]
  },
  {
   "cell_type": "code",
   "execution_count": 329,
   "id": "424a5339-185b-4cc1-ba07-e5e0c9d31935",
   "metadata": {},
   "outputs": [],
   "source": [
    "import spacy\n",
    "from wordcloud import WordCloud"
   ]
  },
  {
   "cell_type": "markdown",
   "id": "15885471-d20d-4dbf-815f-96d58c558f36",
   "metadata": {},
   "source": [
    "#### Tokenizing with Spacy"
   ]
  },
  {
   "cell_type": "code",
   "execution_count": 330,
   "id": "7305e215-00b8-4c74-80e0-585643b00fd4",
   "metadata": {},
   "outputs": [],
   "source": [
    "nlp = spacy.load(\"en_core_web_sm\")\n",
    "\n",
    "text = Ulta_reviews.Review_Text"
   ]
  },
  {
   "cell_type": "markdown",
   "id": "3c1eb546-fccc-47a3-b816-af142d3430f5",
   "metadata": {},
   "source": [
    "#### Creating a function to tokenize all the products\n",
    "Creating a function TOkenizer and BagOfWords, which tokenizes the documents and calculates the bag of words. It returns all the tokenized documents and vocabulary of words used along with the corresponding frequency"
   ]
  },
  {
   "cell_type": "code",
   "execution_count": 331,
   "id": "b35b6440-8528-4ad4-b176-a9b21d5f82a0",
   "metadata": {},
   "outputs": [],
   "source": [
    "class Tokenizer:\n",
    "    \"\"\"This is used to tokenize documents\"\"\"\n",
    "\n",
    "    def __init__(self) -> None:\n",
    "        self.nlp = spacy.load(\"en_core_web_sm\")\n",
    "\n",
    "    def __call__(self, doc: str, *args: Any, **kwargs: Any) -> list[str]:\n",
    "        # Tokenize and remove stopwords\n",
    "        doc = self.nlp(doc)\n",
    "        tokenized_doc = [word.text.lower() for word in doc if not word.is_stop]\n",
    "        return tokenized_doc\n",
    "\n",
    "\n",
    "class BagOfWords1:\n",
    "    \"\"\"This tokenizes all the documents and calculates the bag of words.\n",
    "    i.e all the unique words in the document are stored and counted.\n",
    "\n",
    "    Returns:\n",
    "        tokenized_docs (list[int]): Tokenized documents i.e list of\n",
    "            tokenized documents where every row in the data is a document.\n",
    "        bag_of_words (dict[str, int]): A dict containing a unique word and the\n",
    "            unique numeric representation of the word.\n",
    "    \"\"\"\n",
    "\n",
    "    def __init__(self) -> None:\n",
    "        self.tokenizer = Tokenizer()\n",
    "\n",
    "    def __call__(\n",
    "        self, data: pd.DataFrame, *args: Any, **kwargs: Any\n",
    "    ) -> tuple[list, dict[str, Any]]:\n",
    "        \"\"\"This calculates the bag of words.\"\"\"\n",
    "        count = 0\n",
    "        vocabulary = {}\n",
    "        all_tokenized_docs = []\n",
    "\n",
    "        for doc in data:\n",
    "            # Tokenize docs\n",
    "            tokenized_doc = self.tokenizer(doc=doc)\n",
    "            doc_as_num = []\n",
    "\n",
    "            for word in tokenized_doc:\n",
    "                # Store the unique words as numbers in the dict\n",
    "                if word not in vocabulary:\n",
    "                    vocabulary[word] = count\n",
    "                    count += 1\n",
    "                # Save the word as a number\n",
    "                doc_as_num.append(vocabulary.get(word))\n",
    "            # Store the tokenized docs (converted to numbers) in a list\n",
    "            all_tokenized_docs.append(doc_as_num)\n",
    "        return (all_tokenized_docs, vocabulary)"
   ]
  },
  {
   "cell_type": "markdown",
   "id": "cc2b4459-c5da-4294-a631-4022c07ac3bd",
   "metadata": {},
   "source": [
    "Tokenizing the review column to see the most popular words"
   ]
  },
  {
   "cell_type": "code",
   "execution_count": 332,
   "id": "d0bb2cb2-7fb1-44bb-b358-4c2fd4f255e2",
   "metadata": {},
   "outputs": [],
   "source": [
    "bow = BagOfWords1()\n",
    "tokenized_docs, vocabulary = bow(data=text)"
   ]
  },
  {
   "cell_type": "code",
   "execution_count": null,
   "id": "7d8811e0-4428-4771-9150-2ab3b153e2a5",
   "metadata": {
    "scrolled": true,
    "tags": []
   },
   "outputs": [],
   "source": [
    "vocabulary"
   ]
  },
  {
   "cell_type": "markdown",
   "id": "78b66fb0-3a95-46f9-8a1a-c706bbad9f56",
   "metadata": {},
   "source": [
    "#### Creating the Wordcloud\n",
    "With the plot_popular function, I create a wordcloud and plot to demonstrate which words wher most poplular"
   ]
  },
  {
   "cell_type": "code",
   "execution_count": null,
   "id": "6bbdd98d-b59f-4805-b76b-6759ec860fac",
   "metadata": {},
   "outputs": [],
   "source": [
    "def plot_popular(vocab: dict):\n",
    "    wordcloud = WordCloud(\n",
    "        width=800, height=800, background_color=\"white\"\n",
    "    ).generate_from_frequencies(vocab)\n",
    "    # displaying with matplotlip\n",
    "    plt.figure(figsize=(8, 8), facecolor=None)\n",
    "    plt.imshow(wordcloud)\n",
    "    plt.axis(\"off\")\n",
    "    plt.tight_layout(pad=0)\n",
    "    plt.show()"
   ]
  },
  {
   "cell_type": "code",
   "execution_count": null,
   "id": "83bc5775-ea5e-4e3d-94d1-cb43986f1b37",
   "metadata": {},
   "outputs": [],
   "source": [
    "plot_popular(vocab=vocabulary)"
   ]
  },
  {
   "cell_type": "markdown",
   "id": "85f6eb0d-956f-4653-9656-ad06ba506645",
   "metadata": {},
   "source": [
    "#### For the Multi-Vitamin Thermafoliant\n",
    "For each product, we create a dataframe containing all the reviews unique to it,tokenize, save it a worcloud and illustrate its most popular words "
   ]
  },
  {
   "cell_type": "code",
   "execution_count": null,
   "id": "5c189f13-c128-476a-83d7-473b0467f3d3",
   "metadata": {},
   "outputs": [],
   "source": [
    "Ulta_reviews[\"Product\"].unique()"
   ]
  },
  {
   "cell_type": "code",
   "execution_count": null,
   "id": "cf5d1711-5a32-4b0b-afa8-13ec3a2229e7",
   "metadata": {
    "scrolled": true,
    "tags": []
   },
   "outputs": [],
   "source": [
    "Mvt = Ulta_reviews.loc[\n",
    "    Ulta_reviews[\"Product\"] == \"Multi-Vitamin Thermafoliant\", \"Review_Text\"\n",
    "]\n",
    "\n",
    "Mvt"
   ]
  },
  {
   "cell_type": "code",
   "execution_count": null,
   "id": "f6f5dc9e-81e6-4a03-839e-cd9b1c33f819",
   "metadata": {
    "scrolled": true,
    "tags": []
   },
   "outputs": [],
   "source": [
    "bow = BagOfWords1()\n",
    "tokenized_docs_mvt, vocabulary_mvt = bow(data=Mvt)\n",
    "vocabulary_mvt"
   ]
  },
  {
   "cell_type": "code",
   "execution_count": null,
   "id": "cfb15b93-1b93-4e8b-8b0a-89f918f234fd",
   "metadata": {},
   "outputs": [],
   "source": [
    "plot_popular(vocab=vocabulary_mvt)"
   ]
  },
  {
   "cell_type": "markdown",
   "id": "1e347fbb-6fe4-4800-8509-f8b039d6a4f6",
   "metadata": {},
   "source": [
    "Word most coomonly associated with Multi-Vitamin Thermafoliantare shoulders, chest and stronger"
   ]
  },
  {
   "cell_type": "markdown",
   "id": "2411ed4c-e85d-49f7-98a1-df82146ad704",
   "metadata": {},
   "source": [
    "#### For the 'Hydro Masque Exfoliant'"
   ]
  },
  {
   "cell_type": "code",
   "execution_count": null,
   "id": "d139176d-d3b0-4778-8d13-c78030b59f41",
   "metadata": {
    "scrolled": true,
    "tags": []
   },
   "outputs": [],
   "source": [
    "Hme = Ulta_reviews.loc[\n",
    "    Ulta_reviews[\"Product\"] == \"Hydro Masque Exfoliant\", \"Review_Text\"\n",
    "]\n",
    "\n",
    "Hme"
   ]
  },
  {
   "cell_type": "code",
   "execution_count": null,
   "id": "fdd1b0ef-c028-4f97-857d-088e473b296a",
   "metadata": {},
   "outputs": [],
   "source": [
    "tokenized_docs, vocabulary_hme = bow(data=Hme)"
   ]
  },
  {
   "cell_type": "code",
   "execution_count": null,
   "id": "b7576d79-dd3a-47a1-a305-7fcafc0fc0b5",
   "metadata": {
    "scrolled": true,
    "tags": []
   },
   "outputs": [],
   "source": [
    "for key, value in sorted(vocabulary_hme.items(), key=lambda x: x[1], reverse=True):\n",
    "    print(key, value)"
   ]
  },
  {
   "cell_type": "code",
   "execution_count": null,
   "id": "4e81561a-5b59-4fdd-885e-e60ef770b47f",
   "metadata": {},
   "outputs": [],
   "source": [
    "plot_popular(vocab=vocabulary_hme)"
   ]
  },
  {
   "cell_type": "markdown",
   "id": "e0d7a773-f226-4dc3-ab96-e345260ac7fc",
   "metadata": {},
   "source": [
    "Popular words related to this product include\n",
    "- rubbed \n",
    "- temperatures \n",
    "- colder "
   ]
  },
  {
   "cell_type": "markdown",
   "id": "e1a677fe-c340-4abb-97f4-fd108cfb5e0b",
   "metadata": {},
   "source": [
    "#### Daily Superfoliant"
   ]
  },
  {
   "cell_type": "code",
   "execution_count": null,
   "id": "e36d3bca-0e0c-4899-8b2f-31532551871a",
   "metadata": {
    "scrolled": true,
    "tags": []
   },
   "outputs": [],
   "source": [
    "Dsf = Ulta_reviews.loc[Ulta_reviews[\"Product\"] == \"Daily Superfoliant\", \"Review_Text\"]\n",
    "\n",
    "Dsf"
   ]
  },
  {
   "cell_type": "code",
   "execution_count": null,
   "id": "6c66ff65-da83-4641-bee0-99b9738f4960",
   "metadata": {},
   "outputs": [],
   "source": [
    "tokenized_docs, vocabulary_dsf = bow(data=Dsf)"
   ]
  },
  {
   "cell_type": "code",
   "execution_count": null,
   "id": "af6bdc43-3118-44db-b6a1-43598fd55dd1",
   "metadata": {
    "scrolled": true,
    "tags": []
   },
   "outputs": [],
   "source": [
    "vocabulary_dsf"
   ]
  },
  {
   "cell_type": "code",
   "execution_count": null,
   "id": "60a5bbc0-55b2-4ba9-8d26-77fa8992dd10",
   "metadata": {},
   "outputs": [],
   "source": [
    "plot_popular(vocab=vocabulary_dsf)"
   ]
  },
  {
   "cell_type": "markdown",
   "id": "aab63b4d-a741-43e7-b981-463151655a19",
   "metadata": {},
   "source": [
    "Popular words associated with this product inclue:\n",
    "- soothes\n",
    "- upcoming\n",
    "- definetly"
   ]
  },
  {
   "cell_type": "markdown",
   "id": "a8aa46be-76c0-4c3d-b2f3-cedeb1db2070",
   "metadata": {},
   "source": [
    "#### Daily Microfoliant"
   ]
  },
  {
   "cell_type": "code",
   "execution_count": null,
   "id": "49887b85-7971-4e1d-aa1b-0204b727ca5f",
   "metadata": {
    "scrolled": true,
    "tags": []
   },
   "outputs": [],
   "source": [
    "Dmf = Ulta_reviews.loc[Ulta_reviews[\"Product\"] == \"Daily Microfoliant\", \"Review_Text\"]\n",
    "\n",
    "Dmf"
   ]
  },
  {
   "cell_type": "code",
   "execution_count": null,
   "id": "31b8498a-1238-4d8b-8cb9-f02c7866bd95",
   "metadata": {},
   "outputs": [],
   "source": [
    "tokenized_docs, vocabulary_dmf = bow(data=Dmf)"
   ]
  },
  {
   "cell_type": "code",
   "execution_count": null,
   "id": "9ec138f0-bb18-45f3-a319-85b8b8aa3586",
   "metadata": {},
   "outputs": [],
   "source": [
    "vocabulary_dmf\n",
    "\n",
    "plot_popular(vocab=vocabulary_dmf)"
   ]
  },
  {
   "cell_type": "markdown",
   "id": "9ff2fb3f-3a21-415b-9471-3fcf263b8e51",
   "metadata": {},
   "source": [
    "Popular words related to this product include\n",
    "- mad \n",
    "- useless \n",
    "- unnoticeable"
   ]
  },
  {
   "cell_type": "markdown",
   "id": "90a01b86-7cc0-4518-a8f8-02af588a4cf7",
   "metadata": {},
   "source": [
    "##  Performing sentiment analysis\n",
    "we perform the following functions:\n",
    "- using sentiment analyzer to detect whether the review was positive or negative\n",
    "- Encoding positive and negative to values\n",
    "- plot percentage of positive and negative reviews using a pie chart\n",
    "- remove stopwords\n",
    "- lemmatize\n",
    "-"
   ]
  },
  {
   "cell_type": "code",
   "execution_count": 333,
   "id": "869fa721-93a4-47a3-8a83-81ad6afda1cd",
   "metadata": {},
   "outputs": [],
   "source": [
    "import nltk"
   ]
  },
  {
   "cell_type": "markdown",
   "id": "9fa46e53-c02b-47b0-b1fb-c499c422bcc7",
   "metadata": {},
   "source": [
    "Using Sentiment Intensity Analyzer, we create a column to appropriately detect the type of review, whetehr positive or negative"
   ]
  },
  {
   "cell_type": "code",
   "execution_count": 334,
   "id": "509fe1b2-5375-4109-ab4e-1972bcedb43a",
   "metadata": {},
   "outputs": [],
   "source": [
    "from vaderSentiment.vaderSentiment import SentimentIntensityAnalyzer\n",
    "\n",
    "vds = SentimentIntensityAnalyzer()"
   ]
  },
  {
   "cell_type": "code",
   "execution_count": 335,
   "id": "51c4c104-829d-45a3-9663-e3538da7b27d",
   "metadata": {},
   "outputs": [
    {
     "data": {
      "text/html": [
       "<div>\n",
       "<style scoped>\n",
       "    .dataframe tbody tr th:only-of-type {\n",
       "        vertical-align: middle;\n",
       "    }\n",
       "\n",
       "    .dataframe tbody tr th {\n",
       "        vertical-align: top;\n",
       "    }\n",
       "\n",
       "    .dataframe thead th {\n",
       "        text-align: right;\n",
       "    }\n",
       "</style>\n",
       "<table border=\"1\" class=\"dataframe\">\n",
       "  <thead>\n",
       "    <tr style=\"text-align: right;\">\n",
       "      <th></th>\n",
       "      <th>Review_Title</th>\n",
       "      <th>Review_Text</th>\n",
       "      <th>Verified_Buyer</th>\n",
       "      <th>Review_Date</th>\n",
       "      <th>Review_Location</th>\n",
       "      <th>Review_Upvotes</th>\n",
       "      <th>Review_Downvotes</th>\n",
       "      <th>Product</th>\n",
       "      <th>Brand</th>\n",
       "      <th>Scrape_Date</th>\n",
       "      <th>has_issue</th>\n",
       "      <th>score</th>\n",
       "    </tr>\n",
       "  </thead>\n",
       "  <tbody>\n",
       "    <tr>\n",
       "      <th>0</th>\n",
       "      <td>Perfect</td>\n",
       "      <td>Love using this on my face while in the shower. Heats up and gives a light scrub nicely</td>\n",
       "      <td>No</td>\n",
       "      <td>15 days ago</td>\n",
       "      <td>Undisclosed</td>\n",
       "      <td>0</td>\n",
       "      <td>0</td>\n",
       "      <td>Multi-Vitamin Thermafoliant</td>\n",
       "      <td>Dermalogica</td>\n",
       "      <td>3/27/23</td>\n",
       "      <td>False</td>\n",
       "      <td>{'neg': 0.0, 'neu': 0.693, 'pos': 0.307, 'compound': 0.7964}</td>\n",
       "    </tr>\n",
       "  </tbody>\n",
       "</table>\n",
       "</div>"
      ],
      "text/plain": [
       "  Review_Title  \\\n",
       "0      Perfect   \n",
       "\n",
       "                                                                               Review_Text  \\\n",
       "0  Love using this on my face while in the shower. Heats up and gives a light scrub nicely   \n",
       "\n",
       "  Verified_Buyer  Review_Date Review_Location  Review_Upvotes  \\\n",
       "0             No  15 days ago     Undisclosed               0   \n",
       "\n",
       "   Review_Downvotes                      Product        Brand Scrape_Date  \\\n",
       "0                 0  Multi-Vitamin Thermafoliant  Dermalogica     3/27/23   \n",
       "\n",
       "   has_issue                                                         score  \n",
       "0      False  {'neg': 0.0, 'neu': 0.693, 'pos': 0.307, 'compound': 0.7964}  "
      ]
     },
     "execution_count": 335,
     "metadata": {},
     "output_type": "execute_result"
    }
   ],
   "source": [
    "Ulta_reviews[\"score\"] = Ulta_reviews[\"Review_Text\"].apply(\n",
    "    lambda review: vds.polarity_scores(review)\n",
    ")\n",
    "\n",
    "Ulta_reviews.head(1)"
   ]
  },
  {
   "cell_type": "code",
   "execution_count": 336,
   "id": "3753f09a-42c3-456d-a7c6-46b59defa375",
   "metadata": {},
   "outputs": [
    {
     "data": {
      "text/html": [
       "<div>\n",
       "<style scoped>\n",
       "    .dataframe tbody tr th:only-of-type {\n",
       "        vertical-align: middle;\n",
       "    }\n",
       "\n",
       "    .dataframe tbody tr th {\n",
       "        vertical-align: top;\n",
       "    }\n",
       "\n",
       "    .dataframe thead th {\n",
       "        text-align: right;\n",
       "    }\n",
       "</style>\n",
       "<table border=\"1\" class=\"dataframe\">\n",
       "  <thead>\n",
       "    <tr style=\"text-align: right;\">\n",
       "      <th></th>\n",
       "      <th>Review_Title</th>\n",
       "      <th>Review_Text</th>\n",
       "      <th>Verified_Buyer</th>\n",
       "      <th>Review_Date</th>\n",
       "      <th>Review_Location</th>\n",
       "      <th>Review_Upvotes</th>\n",
       "      <th>Review_Downvotes</th>\n",
       "      <th>Product</th>\n",
       "      <th>Brand</th>\n",
       "      <th>Scrape_Date</th>\n",
       "      <th>has_issue</th>\n",
       "      <th>score</th>\n",
       "      <th>compound</th>\n",
       "    </tr>\n",
       "  </thead>\n",
       "  <tbody>\n",
       "    <tr>\n",
       "      <th>0</th>\n",
       "      <td>Perfect</td>\n",
       "      <td>Love using this on my face while in the shower. Heats up and gives a light scrub nicely</td>\n",
       "      <td>No</td>\n",
       "      <td>15 days ago</td>\n",
       "      <td>Undisclosed</td>\n",
       "      <td>0</td>\n",
       "      <td>0</td>\n",
       "      <td>Multi-Vitamin Thermafoliant</td>\n",
       "      <td>Dermalogica</td>\n",
       "      <td>3/27/23</td>\n",
       "      <td>False</td>\n",
       "      <td>{'neg': 0.0, 'neu': 0.693, 'pos': 0.307, 'compound': 0.7964}</td>\n",
       "      <td>0.7964</td>\n",
       "    </tr>\n",
       "  </tbody>\n",
       "</table>\n",
       "</div>"
      ],
      "text/plain": [
       "  Review_Title  \\\n",
       "0      Perfect   \n",
       "\n",
       "                                                                               Review_Text  \\\n",
       "0  Love using this on my face while in the shower. Heats up and gives a light scrub nicely   \n",
       "\n",
       "  Verified_Buyer  Review_Date Review_Location  Review_Upvotes  \\\n",
       "0             No  15 days ago     Undisclosed               0   \n",
       "\n",
       "   Review_Downvotes                      Product        Brand Scrape_Date  \\\n",
       "0                 0  Multi-Vitamin Thermafoliant  Dermalogica     3/27/23   \n",
       "\n",
       "   has_issue                                                         score  \\\n",
       "0      False  {'neg': 0.0, 'neu': 0.693, 'pos': 0.307, 'compound': 0.7964}   \n",
       "\n",
       "   compound  \n",
       "0    0.7964  "
      ]
     },
     "execution_count": 336,
     "metadata": {},
     "output_type": "execute_result"
    }
   ],
   "source": [
    "Ulta_reviews[\"compound\"] = Ulta_reviews[\"score\"].apply(\n",
    "    lambda score_dict: score_dict[\"compound\"]\n",
    ")\n",
    "\n",
    "Ulta_reviews.head(1)"
   ]
  },
  {
   "cell_type": "code",
   "execution_count": null,
   "id": "af43ada8-870e-4b49-ac3a-8b226c51d76f",
   "metadata": {},
   "outputs": [],
   "source": []
  },
  {
   "cell_type": "code",
   "execution_count": 337,
   "id": "a82626b1-bd07-4894-a74e-4eb6a8f01689",
   "metadata": {},
   "outputs": [
    {
     "data": {
      "text/html": [
       "<div>\n",
       "<style scoped>\n",
       "    .dataframe tbody tr th:only-of-type {\n",
       "        vertical-align: middle;\n",
       "    }\n",
       "\n",
       "    .dataframe tbody tr th {\n",
       "        vertical-align: top;\n",
       "    }\n",
       "\n",
       "    .dataframe thead th {\n",
       "        text-align: right;\n",
       "    }\n",
       "</style>\n",
       "<table border=\"1\" class=\"dataframe\">\n",
       "  <thead>\n",
       "    <tr style=\"text-align: right;\">\n",
       "      <th></th>\n",
       "      <th>Review_Title</th>\n",
       "      <th>Review_Text</th>\n",
       "      <th>Verified_Buyer</th>\n",
       "      <th>Review_Date</th>\n",
       "      <th>Review_Location</th>\n",
       "      <th>Review_Upvotes</th>\n",
       "      <th>Review_Downvotes</th>\n",
       "      <th>Product</th>\n",
       "      <th>Brand</th>\n",
       "      <th>Scrape_Date</th>\n",
       "      <th>has_issue</th>\n",
       "      <th>score</th>\n",
       "      <th>compound</th>\n",
       "      <th>sentiment</th>\n",
       "    </tr>\n",
       "  </thead>\n",
       "  <tbody>\n",
       "    <tr>\n",
       "      <th>0</th>\n",
       "      <td>Perfect</td>\n",
       "      <td>Love using this on my face while in the shower. Heats up and gives a light scrub nicely</td>\n",
       "      <td>No</td>\n",
       "      <td>15 days ago</td>\n",
       "      <td>Undisclosed</td>\n",
       "      <td>0</td>\n",
       "      <td>0</td>\n",
       "      <td>Multi-Vitamin Thermafoliant</td>\n",
       "      <td>Dermalogica</td>\n",
       "      <td>3/27/23</td>\n",
       "      <td>False</td>\n",
       "      <td>{'neg': 0.0, 'neu': 0.693, 'pos': 0.307, 'compound': 0.7964}</td>\n",
       "      <td>0.7964</td>\n",
       "      <td>positive</td>\n",
       "    </tr>\n",
       "  </tbody>\n",
       "</table>\n",
       "</div>"
      ],
      "text/plain": [
       "  Review_Title  \\\n",
       "0      Perfect   \n",
       "\n",
       "                                                                               Review_Text  \\\n",
       "0  Love using this on my face while in the shower. Heats up and gives a light scrub nicely   \n",
       "\n",
       "  Verified_Buyer  Review_Date Review_Location  Review_Upvotes  \\\n",
       "0             No  15 days ago     Undisclosed               0   \n",
       "\n",
       "   Review_Downvotes                      Product        Brand Scrape_Date  \\\n",
       "0                 0  Multi-Vitamin Thermafoliant  Dermalogica     3/27/23   \n",
       "\n",
       "   has_issue                                                         score  \\\n",
       "0      False  {'neg': 0.0, 'neu': 0.693, 'pos': 0.307, 'compound': 0.7964}   \n",
       "\n",
       "   compound sentiment  \n",
       "0    0.7964  positive  "
      ]
     },
     "execution_count": 337,
     "metadata": {},
     "output_type": "execute_result"
    }
   ],
   "source": [
    "Ulta_reviews[\"sentiment\"] = Ulta_reviews[\"compound\"].apply(\n",
    "    lambda c: \"positive\" if c >= 0 else \"negative\"\n",
    ")\n",
    "\n",
    "Ulta_reviews.head(1)"
   ]
  },
  {
   "cell_type": "markdown",
   "id": "cbc0af1e-fbf5-43dd-98ae-9bfa0d98f657",
   "metadata": {},
   "source": [
    "Encoding the positive and negatives values to 1 and 0 respectively"
   ]
  },
  {
   "cell_type": "code",
   "execution_count": 338,
   "id": "184db744-0d8b-4028-87a7-0fbff027e553",
   "metadata": {},
   "outputs": [],
   "source": [
    "Ulta_reviews_1 = Ulta_reviews.copy()\n",
    "Ulta_reviews_1[\"sentiment\"] = Ulta_reviews_1[\"sentiment\"].apply(\n",
    "    lambda x: 1 if x == \"positive\" else 0\n",
    ")"
   ]
  },
  {
   "cell_type": "markdown",
   "id": "aca924b6-166e-4e97-b12a-df16b7237d6f",
   "metadata": {},
   "source": [
    "Using a pie chart, we plot the percentage of positive and negative reviews"
   ]
  },
  {
   "cell_type": "code",
   "execution_count": 339,
   "id": "74dc9779-955a-44c0-ba57-2da1248483a9",
   "metadata": {},
   "outputs": [
    {
     "data": {
      "image/png": "[encoded data removed]",
      "text/plain": [
       "<Figure size 700x500 with 1 Axes>"
      ]
     },
     "metadata": {},
     "output_type": "display_data"
    }
   ],
   "source": [
    "plt.figure(figsize=[7, 5])\n",
    "plt.axis(\"equal\")\n",
    "\n",
    "\n",
    "# Plot\n",
    "plt.pie(\n",
    "    Ulta_reviews_1[\"sentiment\"].value_counts(),\n",
    "    labels=[\"Positive\", \"Negative\"],\n",
    "    autopct=\"%1.1f%%\",\n",
    "    pctdistance=0.5,\n",
    ")\n",
    "\n",
    "plt.tight_layout()\n",
    "plt.show()"
   ]
  },
  {
   "cell_type": "markdown",
   "id": "589b1d6e-3fb1-40bc-8b24-53ee60e6a773",
   "metadata": {},
   "source": [
    "95% of reviews were positive and 5 % were negative"
   ]
  },
  {
   "cell_type": "markdown",
   "id": "42de6985-0e8b-4a7d-b29e-3f934c63b51b",
   "metadata": {},
   "source": [
    "#### Importing the appropiate stopwords function"
   ]
  },
  {
   "cell_type": "code",
   "execution_count": 340,
   "id": "b117ba45-3147-401c-8a43-58886349b40e",
   "metadata": {},
   "outputs": [
    {
     "name": "stderr",
     "output_type": "stream",
     "text": [
      "[nltk_data] Downloading package stopwords to C:\\Users\\HP ELITEBOOK 840\n",
      "[nltk_data]     G2\\AppData\\Roaming\\nltk_data...\n",
      "[nltk_data]   Package stopwords is already up-to-date!\n"
     ]
    },
    {
     "data": {
      "text/plain": [
       "True"
      ]
     },
     "execution_count": 340,
     "metadata": {},
     "output_type": "execute_result"
    }
   ],
   "source": [
    "from nltk.corpus import stopwords\n",
    "\n",
    "nltk.download(\"stopwords\")"
   ]
  },
  {
   "cell_type": "markdown",
   "id": "6c5ee682-ce04-440b-9fae-e827dcaf55cb",
   "metadata": {},
   "source": [
    "#### writing a  function to remove stopwords and lemmatize in the same function\n"
   ]
  },
  {
   "cell_type": "code",
   "execution_count": 341,
   "id": "0607a810-edee-4633-9c30-10c08f1c07dc",
   "metadata": {},
   "outputs": [],
   "source": [
    "def sw_lemm(text):\n",
    "    stopword = set(stopwords.words(\"english\"))\n",
    "\n",
    "    text = \" \".join(word for word in text.split() if word not in stopword)\n",
    "    doc = nlp(text)\n",
    "    tokens = [\n",
    "        token.lemma_.lower()\n",
    "        for token in doc\n",
    "        if not token.is_stop and not token.is_punct\n",
    "    ]\n",
    "    return \" \".join(tokens)"
   ]
  },
  {
   "cell_type": "code",
   "execution_count": null,
   "id": "86a7d866-fc30-4225-b1c1-37a5203ccedf",
   "metadata": {},
   "outputs": [],
   "source": [
    "Ulta_reviews_1[\"reviewed_text\"] = Ulta_reviews_1[\"Review_Text\"].apply(sw_lemm)"
   ]
  },
  {
   "cell_type": "code",
   "execution_count": null,
   "id": "46abbc39-7e2e-426d-a88d-1b6f1cb08dd5",
   "metadata": {},
   "outputs": [],
   "source": [
    "Ulta_reviews_1[\"reviewed_text\"].head()"
   ]
  },
  {
   "cell_type": "markdown",
   "id": "3bb6cafc-d519-4417-8f90-c3e817354f57",
   "metadata": {},
   "source": [
    "## MultiNomial Naive Bayes function"
   ]
  },
  {
   "cell_type": "markdown",
   "id": "10ed5aa2-a315-4284-8db9-904d1d88b060",
   "metadata": {},
   "source": [
    "#### Importing the appropriate libraries"
   ]
  },
  {
   "cell_type": "code",
   "execution_count": null,
   "id": "94528b51-94a2-4ec8-8d14-91b5d8f7a2bb",
   "metadata": {},
   "outputs": [],
   "source": [
    "from sklearn.naive_bayes import MultinomialNB\n",
    "from sklearn.model_selection import train_test_split\n",
    "from sklearn.feature_extraction.text import TfidfVectorizer\n",
    "from sklearn.pipeline import Pipeline\n",
    "from sklearn import metrics\n",
    "from sklearn.feature_extraction.text import CountVectorizer\n",
    "from"
   ]
  },
  {
   "cell_type": "markdown",
   "id": "e1425183-616c-4a7c-a507-241b54c9323a",
   "metadata": {},
   "source": [
    " #### splitting the data\n"
   ]
  },
  {
   "cell_type": "code",
   "execution_count": null,
   "id": "e5b4aea5-7fd8-4f09-8e08-b4b4750dbe0b",
   "metadata": {},
   "outputs": [],
   "source": [
    "X = Ulta_reviews_1[\"reviewed_text\"]\n",
    "y = Ulta_reviews_1[\"sentiment\"]\n",
    "\n",
    "# Split data\n",
    "X_train, X_validate, y_train, y_validate = train_test_split(\n",
    "    X, y, test_size=0.1, random_state=123\n",
    ")\n",
    "\n",
    "X_train.shape, X_validate.shape"
   ]
  },
  {
   "cell_type": "markdown",
   "id": "87014b08-b939-4f8d-9c4e-7fa05c94a4ab",
   "metadata": {},
   "source": [
    "#### Count Vectorizer or TFIDF Vectorizer\n",
    "I want to create two machine learning models using two vectorizers, The count Vectorizer and the TFIDF Vectorizer "
   ]
  },
  {
   "cell_type": "code",
   "execution_count": null,
   "id": "ae94fc53-bd38-40e5-bbd8-88fb748df146",
   "metadata": {},
   "outputs": [],
   "source": [
    "# Using a pipeline to count vectorize and perform the ml model\n",
    "\n",
    "mnb = MultinomialNB()\n",
    "\n",
    "cv = CountVectorizer()\n",
    "\n",
    "pipeline_count = Pipeline(\n",
    "    steps=[\n",
    "        # ========column transfomer=======\n",
    "        (\"count_vectorizer\", cv),\n",
    "        # ==========lostic regression======\n",
    "        (\"multi_nomial_nb\", mnb),\n",
    "    ]\n",
    ")\n",
    "\n",
    "pipeline_count"
   ]
  },
  {
   "cell_type": "markdown",
   "id": "28f33ed2-bcb3-4131-a216-252550426653",
   "metadata": {},
   "source": [
    "#### Fitting and predicting"
   ]
  },
  {
   "cell_type": "code",
   "execution_count": null,
   "id": "39c770d4-f100-482e-8d6f-2f88430bfa08",
   "metadata": {},
   "outputs": [],
   "source": [
    "# fitting the model\n",
    "pipeline_count.fit(X_train, y_train)\n",
    "\n",
    "# predict\n",
    "ypred_count = pipeline_count.predict(X_validate)"
   ]
  },
  {
   "cell_type": "markdown",
   "id": "ebcd1be3-e90b-454f-99fb-d01dfd143d79",
   "metadata": {},
   "source": [
    "#### Metrics \n",
    "Comparing the three metrics(precision, accuracy and roc_auc_score)"
   ]
  },
  {
   "cell_type": "code",
   "execution_count": null,
   "id": "8a355c82-1d99-4851-8e81-7b235db15f5f",
   "metadata": {},
   "outputs": [],
   "source": [
    "# Check the accuracy\n",
    "precision = metrics.precision_score(y_validate, ypred_count, average=\"macro\")\n",
    "\n",
    "print(\"Precision:\", precision)"
   ]
  },
  {
   "cell_type": "code",
   "execution_count": null,
   "id": "1edc3a87-3a89-4535-b270-d6c094f1442d",
   "metadata": {},
   "outputs": [],
   "source": [
    "count_report = metrics.classification_report(\n",
    "    y_true=y_validate, y_pred=ypred_count, zero_division=0\n",
    ")\n",
    "print(count_report)"
   ]
  },
  {
   "cell_type": "code",
   "execution_count": null,
   "id": "c664d654-0ac0-4608-b196-9ec04216ba26",
   "metadata": {},
   "outputs": [],
   "source": [
    "count_r_roc_score = metrics.roc_auc_score(y_true=y_validate, y_score=ypred_count)\n",
    "count_r_roc_score"
   ]
  },
  {
   "cell_type": "markdown",
   "id": "51a01b05-1a49-44ea-8d1e-84a1e7c18450",
   "metadata": {},
   "source": [
    "#### TFIDF Vectorizer"
   ]
  },
  {
   "cell_type": "code",
   "execution_count": null,
   "id": "cfae8648-16af-42a8-9d69-49dec9213453",
   "metadata": {},
   "outputs": [],
   "source": [
    "# using tfidf vectorizer\n",
    "\n",
    "tfidf_vec = TfidfVectorizer()\n",
    "\n",
    "pipeline_tf = Pipeline(\n",
    "    steps=[\n",
    "        # ========column transfomer=======\n",
    "        (\"tfidf_vectorizer\", tfidf_vec),\n",
    "        # ==========lostic regression======\n",
    "        (\"multi_nomial_nb\", mnb),\n",
    "    ]\n",
    ")\n",
    "\n",
    "pipeline_tf"
   ]
  },
  {
   "cell_type": "markdown",
   "id": "3cd4bd94-5d66-4b81-9218-461f248cba89",
   "metadata": {},
   "source": [
    "#### Fitting the model"
   ]
  },
  {
   "cell_type": "code",
   "execution_count": null,
   "id": "7dff5111-3629-481b-bd64-386e3fdf2999",
   "metadata": {},
   "outputs": [],
   "source": [
    "# fitting the model\n",
    "pipeline_tf.fit(X_train, y_train)\n",
    "\n",
    "# predict\n",
    "ypred_tf = pipeline_tf.predict(X_validate)"
   ]
  },
  {
   "cell_type": "markdown",
   "id": "f4a12d9b-8fde-47b2-9ffa-bb235a8491b3",
   "metadata": {},
   "source": [
    "#### Check the precision\n",
    "Precision is used instead of accuracy as a metric of comparison beacuse 95%of the reviews are positive"
   ]
  },
  {
   "cell_type": "code",
   "execution_count": null,
   "id": "7ed166b6-e3ad-44c0-a04d-4d61e14f3c07",
   "metadata": {},
   "outputs": [],
   "source": [
    "precision_tf = metrics.precision_score(\n",
    "    y_validate, ypred_tf, average=\"macro\", zero_division=0\n",
    ")\n",
    "\n",
    "print(\"Precision:\", precision_tf)"
   ]
  },
  {
   "cell_type": "code",
   "execution_count": null,
   "id": "a79bd4e5-8437-4248-8f49-3444df02c100",
   "metadata": {},
   "outputs": [],
   "source": [
    "tfidf_report = metrics.classification_report(\n",
    "    y_true=y_validate, y_pred=ypred_tf, zero_division=0\n",
    ")\n",
    "print(tfidf_report)"
   ]
  },
  {
   "cell_type": "code",
   "execution_count": null,
   "id": "c604c8ba-05a6-4e52-81e0-fe0526ec6ac6",
   "metadata": {},
   "outputs": [],
   "source": [
    "tfidf_r_roc_score = metrics.roc_auc_score(y_true=y_validate, y_score=ypred_tf)\n",
    "tfidf_r_roc_score"
   ]
  },
  {
   "cell_type": "markdown",
   "id": "da7fc349-6991-4d6c-a6d6-001367f0e128",
   "metadata": {},
   "source": [
    "Of the two models, using the Count Vecrorizer is more accurate , producing a precision score of 0.67"
   ]
  },
  {
   "cell_type": "markdown",
   "id": "47dc478f-389d-4347-b3f5-35b32ee1f68c",
   "metadata": {},
   "source": [
    "#### Logistic Regression"
   ]
  },
  {
   "cell_type": "code",
   "execution_count": null,
   "id": "004334a2-357c-4d39-9e27-2125c4b4953b",
   "metadata": {},
   "outputs": [],
   "source": [
    "# Using a pipeline to count vectorize and perform a logistic model\n",
    "from sklearn.linear_model import LogisticRegression\n",
    "\n",
    "\n",
    "logit = LogisticRegression()\n",
    "\n",
    "pipeline_logit = Pipeline(\n",
    "    steps=[\n",
    "        # ========column transfomer=======\n",
    "        (\"count_vectorizer\", cv),\n",
    "        # ==========lostic regression======\n",
    "        (\"logit\", logit),\n",
    "    ]\n",
    ")\n",
    "\n",
    "pipeline_logit"
   ]
  },
  {
   "cell_type": "markdown",
   "id": "6ff9f2e0-9222-477e-a628-9e5b5bcc1a45",
   "metadata": {},
   "source": [
    "#### Fitting"
   ]
  },
  {
   "cell_type": "code",
   "execution_count": null,
   "id": "0f3d4081-fb6a-4f92-bc98-1839b5973fc5",
   "metadata": {},
   "outputs": [],
   "source": [
    "# fitting the model\n",
    "pipeline_logit.fit(X_train, y_train)\n",
    "\n",
    "# predict\n",
    "ypred_log = pipeline_logit.predict(X_validate)"
   ]
  },
  {
   "cell_type": "code",
   "execution_count": null,
   "id": "2b7724f9-4955-44e4-a53b-c090ffbf367c",
   "metadata": {},
   "outputs": [],
   "source": [
    "# Check the precision\n",
    "precision_log = metrics.precision_score(\n",
    "    y_validate, ypred_log, average=\"macro\", zero_division=0\n",
    ")\n",
    "\n",
    "print(\"Precision:\", precision_log)"
   ]
  },
  {
   "cell_type": "markdown",
   "id": "9cc335f4-35b2-483d-a694-00e54821d2ff",
   "metadata": {},
   "source": [
    "##### Conclusion: In order to predict accutrately predict a new review, th elogistic regression model should be used as it has the highest precision"
   ]
  },
  {
   "cell_type": "code",
   "execution_count": null,
   "id": "2cc4e678-0857-43bf-8155-3ed77569166f",
   "metadata": {},
   "outputs": [],
   "source": []
  }
 ],
 "metadata": {
  "kernelspec": {
   "display_name": "Python 3 (ipykernel)",
   "language": "python",
   "name": "python3"
  },
  "language_info": {
   "codemirror_mode": {
    "name": "ipython",
    "version": 3
   },
   "file_extension": ".py",
   "mimetype": "text/x-python",
   "name": "python",
   "nbconvert_exporter": "python",
   "pygments_lexer": "ipython3",
   "version": "3.9.13"
  }
 },
 "nbformat": 4,
 "nbformat_minor": 5
}
