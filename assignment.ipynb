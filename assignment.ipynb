{
 "cells": [
  {
   "cell_type": "markdown",
   "id": "28c12f4a-512d-4a18-8640-45dd48ae8b3c",
   "metadata": {},
   "source": [
    "# Assignment 1 (Week 1)\n",
    "\n",
    ">**Note**: Late submissions are ***`penalized`***.\n",
    "\n",
    "## Name: Adeniyi Kabirat"
   ]
  },
  {
   "cell_type": "code",
   "execution_count": 1,
   "id": "5aba3d86-630f-4a40-bbf6-6e3cde1e44b9",
   "metadata": {},
   "outputs": [],
   "source": [
    "# Black code formatter (Optional)\n",
    "# $ pip install nb_black\n",
    "%load_ext lab_black\n",
    "\n",
    "# auto reload imports\n",
    "%load_ext autoreload\n",
    "%autoreload 2"
   ]
  },
  {
   "cell_type": "markdown",
   "id": "c5f5ad77-c752-4093-b190-919063786c35",
   "metadata": {},
   "source": [
    "## Qs 1: \n",
    "\n",
    "Create a class **`Die`** with one attribute called sides, which has a default value of 6. Write a method called `roll_die()` that prints a random number between **1** and the **number of sides** the die has. Make a **6-sided** die and roll it **4** times."
   ]
  },
  {
   "cell_type": "code",
   "execution_count": 5,
   "id": "38322314-a896-46e0-b2ba-4e6415487559",
   "metadata": {},
   "outputs": [
    {
     "name": "stdout",
     "output_type": "stream",
     "text": [
      "6\n",
      "4\n",
      "4\n",
      "5\n"
     ]
    }
   ],
   "source": [
    "# Write your solution here\n",
    "import random\n",
    "\n",
    "class Die:\n",
    "    def __init__(self, sides=6):\n",
    "        self.sides = sides\n",
    "\n",
    "    def roll_die(self):\n",
    "        result = random.randint(1, self.sides)\n",
    "        print(result)\n",
    "        \n",
    "# to create a six sided die and roll the die 4 times\n",
    "die6 = Die()\n",
    "for i in range(4):\n",
    "    die6.roll_die()"
   ]
  },
  {
   "cell_type": "code",
   "execution_count": 3,
   "id": "d1a517b1-7062-46db-ab56-a3fc9015fe80",
   "metadata": {},
   "outputs": [],
   "source": [
    "# Write your solution here"
   ]
  },
  {
   "cell_type": "code",
   "execution_count": 4,
   "id": "cc40be86-90e0-4d95-ab3f-a7e299c73127",
   "metadata": {},
   "outputs": [],
   "source": [
    "# Write your solution here"
   ]
  },
  {
   "cell_type": "code",
   "execution_count": 5,
   "id": "738525e7-1d88-4a4d-8321-80d5df6f115a",
   "metadata": {},
   "outputs": [],
   "source": [
    "# Write your solution here"
   ]
  },
  {
   "cell_type": "code",
   "execution_count": null,
   "id": "12ab517e-1921-4606-a6f3-ee14df19f00a",
   "metadata": {},
   "outputs": [],
   "source": []
  },
  {
   "cell_type": "markdown",
   "id": "3cfe6485-0967-465b-b47a-c5e83c7d6a68",
   "metadata": {
    "tags": []
   },
   "source": [
    "## Qs 2: \n",
    "\n",
    "Write a function called `checker()` that accepts a number between 1 and N. Your function should print **Yes** if the number is divisible by 3, **Okay** if the number is divisible by 4 and **Perfect** if the number is divisible by 12. Test your function with **2** examples as shown below:\n",
    "\n",
    "```python\n",
    "\n",
    "def checker(number: int) -> None:\n",
    "    pass\n",
    "\n",
    "checker(number=13)\n",
    "\n",
    "# 3: Yes\n",
    "# 4: Okay\n",
    "# 6: Yes\n",
    "# 8: Okay\n",
    "# 9: Yes\n",
    "# 12: Perfect\n",
    "\n",
    "checker(number=30)\n",
    "```"
   ]
  },
  {
   "cell_type": "code",
   "execution_count": 7,
   "id": "2e89f2f2-d0b0-4ca8-8971-58a5b5d0ce4b",
   "metadata": {
    "scrolled": true
   },
   "outputs": [
    {
     "name": "stdout",
     "output_type": "stream",
     "text": [
      "Yes\n",
      "Okay\n"
     ]
    }
   ],
   "source": [
    "# Write your solution here\n",
    "def checker(n):\n",
    "    if n % 12 == 0:\n",
    "        print(\"Perfect\")\n",
    "    elif n % 4 == 0:\n",
    "        print(\"Okay\")\n",
    "    elif n % 3 == 0:\n",
    "        print(\"Yes\")\n",
    "\n",
    "# to test the function\n",
    "checker(3) \n",
    "checker(4)  "
   ]
  },
  {
   "cell_type": "code",
   "execution_count": 7,
   "id": "d54bf804-5776-45c1-ae47-14ce56c0bc61",
   "metadata": {},
   "outputs": [],
   "source": [
    "# Write your solution here"
   ]
  },
  {
   "cell_type": "markdown",
   "id": "0eec9ead",
   "metadata": {},
   "source": [
    "## Qs 3: \n",
    "\n",
    "Create a class called `MeanOrMedian`. Implement two methods in your class `calculate_mean()` and `calculate_median()` that calculates the **`mean`** and the **`median`** respectively given a list. Instantiate the class `MeanOrMedian` and test the **2** `mean` and `median` methods."
   ]
  },
  {
   "cell_type": "code",
   "execution_count": 25,
   "id": "c111ac13-e041-4424-a593-67b977983a5f",
   "metadata": {},
   "outputs": [
    {
     "name": "stdout",
     "output_type": "stream",
     "text": [
      "7\n",
      "7\n"
     ]
    }
   ],
   "source": [
    "import statistics\n",
    "\n",
    "class MeanOrMedian:\n",
    "    def __init__(self, data):\n",
    "        self.data = data\n",
    "\n",
    "    def calculate_mean(self):\n",
    "        return statistics.mean(self.data) \n",
    "\n",
    "    def calculate_median(self):\n",
    "        return statistics.median(self.data)\n",
    "#write out a list\n",
    "\n",
    "data = [11, 9, 7, 5, 3]\n",
    "# test the list out\n",
    "mean_or_median = MeanOrMedian(data)\n",
    "\n",
    "mean = mean_or_median.calculate_mean()\n",
    "print(mean)  \n",
    "\n",
    "median = mean_or_median.calculate_median()\n",
    "print(median) "
   ]
  },
  {
   "cell_type": "markdown",
   "id": "755910de-cce0-49eb-b8d0-54fc7e30460a",
   "metadata": {},
   "source": [
    "## Qs 4:\n",
    "\n",
    "Write a program to create the function called `solver()`, which can accept two variables and perform **multiplication** and **division**. It must also return both **multiplication** and **division** in the same return call. Call the function using **two** different examples."
   ]
  },
  {
   "cell_type": "code",
   "execution_count": 17,
   "id": "17630778-8b55-4fd8-a2c1-198072e1e595",
   "metadata": {},
   "outputs": [
    {
     "name": "stdout",
     "output_type": "stream",
     "text": [
      "(500, 5.0)\n",
      "(1080, 30.0)\n"
     ]
    }
   ],
   "source": [
    "# Write your solution here\n",
    "def solver(a, b):\n",
    "    multiplication = a * b\n",
    "    division = a / b\n",
    "    return multiplication, division\n",
    "resulta = solver(50, 10)\n",
    "print(resulta)\n",
    "\n",
    "resultb = solver(180, 6)\n",
    "print(resultb)"
   ]
  },
  {
   "cell_type": "code",
   "execution_count": null,
   "id": "a74b236c-af51-447a-8874-43cc0f2690ae",
   "metadata": {},
   "outputs": [],
   "source": []
  },
  {
   "cell_type": "markdown",
   "id": "11fd8120-de4e-41c6-a9a6-8301347ce936",
   "metadata": {},
   "source": [
    "## Qs 5:\n",
    "\n",
    "Given the dictionary below, extract the following:\n",
    "\n",
    "a.`name`\n",
    "\n",
    "b. `height,width`\n",
    "\n",
    "c. `size`\n",
    "\n",
    "\n",
    "\n",
    "```python\n",
    "\n",
    "my_dict = {\n",
    "   \"id\": \"001\",\n",
    "   \"name\": \"dog\",\n",
    "   \"image\":\n",
    "      {\n",
    "         \"url\": \"images/001.jpg\",\n",
    "\n",
    "            \"thumbnail\":\n",
    "               {\n",
    "                  \"url\": \"images/thumbnails/001.jpg\",\n",
    "                  \"height,width\": \"3x6\"\n",
    "               },\n",
    "          \"size\": \"30 kB\"\n",
    "      }\n",
    "}\n",
    "\n",
    "```"
   ]
  },
  {
   "cell_type": "code",
   "execution_count": 11,
   "id": "b2ba6099-5668-4647-bc93-ad620bfb6be0",
   "metadata": {},
   "outputs": [
    {
     "name": "stdout",
     "output_type": "stream",
     "text": [
      "dog\n"
     ]
    }
   ],
   "source": [
    "# Write your solution here\n",
    "# to print out the name\n",
    "my_dict = {\n",
    "   \"id\": \"001\",\n",
    "   \"name\": \"dog\",\n",
    "   \"image\":\n",
    "      {\n",
    "         \"url\": \"images/001.jpg\",\n",
    "\n",
    "            \"thumbnail\":\n",
    "               {\n",
    "                  \"url\": \"images/thumbnails/001.jpg\",\n",
    "                  \"height,width\": \"3x6\"\n",
    "               },\n",
    "          \"size\": \"30 kB\"\n",
    "      }\n",
    "}\n",
    "name = my_dict[\"name\"]\n",
    "print(name)"
   ]
  },
  {
   "cell_type": "code",
   "execution_count": 13,
   "id": "ee8d8a36-ead3-4ca0-b98f-96864c7c7ebf",
   "metadata": {},
   "outputs": [
    {
     "name": "stdout",
     "output_type": "stream",
     "text": [
      "3\n",
      "6\n"
     ]
    }
   ],
   "source": [
    "# Write your solution here\n",
    "#to print out the height and width\n",
    "height, width = my_dict[\"image\"][\"thumbnail\"][\"height,width\"].split(\"x\")\n",
    "print(height)  \n",
    "print(width) "
   ]
  },
  {
   "cell_type": "code",
   "execution_count": 12,
   "id": "1bfbcb4a-3390-46a9-87a4-3c60b2c5e8f2",
   "metadata": {},
   "outputs": [
    {
     "name": "stdout",
     "output_type": "stream",
     "text": [
      "30 kB\n"
     ]
    }
   ],
   "source": [
    "# Write your solution here\n",
    "#to print out the size\n",
    "size = my_dict[\"image\"][\"size\"]\n",
    "print(size) "
   ]
  },
  {
   "cell_type": "code",
   "execution_count": null,
   "id": "53b7d128-d505-479e-ba13-545d173f80ac",
   "metadata": {},
   "outputs": [],
   "source": []
  },
  {
   "cell_type": "code",
   "execution_count": null,
   "id": "429f4ee7-7d56-47ed-b729-d03f0ad1b865",
   "metadata": {},
   "outputs": [],
   "source": []
  },
  {
   "cell_type": "code",
   "execution_count": null,
   "id": "7d991ca7-cd81-42b4-922f-2d3a98fc514d",
   "metadata": {},
   "outputs": [],
   "source": []
  },
  {
   "cell_type": "code",
   "execution_count": null,
   "id": "e7633399-c0c2-4e74-af78-155dab778b99",
   "metadata": {},
   "outputs": [],
   "source": []
  }
 ],
 "metadata": {
  "kernelspec": {
   "display_name": "Python 3 (ipykernel)",
   "language": "python",
   "name": "python3"
  },
  "language_info": {
   "codemirror_mode": {
    "name": "ipython",
    "version": 3
   },
   "file_extension": ".py",
   "mimetype": "text/x-python",
   "name": "python",
   "nbconvert_exporter": "python",
   "pygments_lexer": "ipython3",
   "version": "3.9.13"
  }
 },
 "nbformat": 4,
 "nbformat_minor": 5
}
